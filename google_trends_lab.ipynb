{
 "cells": [
  {
   "cell_type": "markdown",
   "metadata": {},
   "source": [
    "# Google trends in the social sciences "
   ]
  },
  {
   "cell_type": "markdown",
   "metadata": {},
   "source": [
    "## An application of gtrendsR "
   ]
  },
  {
   "cell_type": "markdown",
   "metadata": {},
   "source": [
    "During the COVID-19 pandemic a lockdown has been implemented in Italy and schools have been closed. Students have been spending their days at home having more time to spend on entertainment but still having to follow classess and do homeworks. Here, we want to uncover how students habits changed during the lockdown posing three questions:\n",
    "\n",
    "1. Did individuals search for (1)educational and (2)entertaining content increase during the lockdown? \n",
    "\n",
    "2. Are there differences between some regions?\n",
    "\n",
    "2. How does the regional GDP correlate with the educational or entertainment content researched during the lockdown? \n",
    "\n",
    "To do so, we will look at how the gtrendsR package works and the type of data it provides visualizing it. Secondly, we will webscrape data on GDP for each italian region from Wikipedia. Thirdly, we will observe how GDP correlates with google searches for *entertainment* and *schooling*. Fourth, we will run some robustness checks.\n"
   ]
  },
  {
   "cell_type": "markdown",
   "metadata": {},
   "source": [
    "First, I install the relevant packages."
   ]
  },
  {
   "cell_type": "code",
   "execution_count": 7,
   "metadata": {},
   "outputs": [],
   "source": [
    "#install packages\n",
    "#install.packages(\"gtrendsR\", quietly = TRUE, warn.conflicts = FALSE)\n",
    "#install.packages (\"dplyr\", quietly = TRUE, warn.conflicts = FALSE)\n",
    "#install.packages (\"ggplot2\", quietly = TRUE, warn.conflicts = FALSE)"
   ]
  },
  {
   "cell_type": "code",
   "execution_count": 6,
   "metadata": {},
   "outputs": [],
   "source": [
    "# A great package to make nice graphs\n",
    "#install.packages(\"ggthemes\") "
   ]
  },
  {
   "cell_type": "code",
   "execution_count": null,
   "metadata": {},
   "outputs": [],
   "source": [
    "Now, I load the packages."
   ]
  },
  {
   "cell_type": "code",
   "execution_count": 97,
   "metadata": {},
   "outputs": [],
   "source": [
    "# load packages\n",
    "library(dplyr, quietly = TRUE, warn.conflicts = FALSE)\n",
    "library(ggplot2, quietly = TRUE, warn.conflicts = FALSE)\n",
    "library(gtrendsR, quietly = TRUE, warn.conflicts = FALSE)\n",
    "library(ggthemes, quietly = TRUE, warn.conflicts = FALSE) "
   ]
  },
  {
   "cell_type": "markdown",
   "metadata": {},
   "source": [
    "## COVID-19 lockdown and the search for entertainment and education in Italy"
   ]
  },
  {
   "cell_type": "markdown",
   "metadata": {},
   "source": [
    "In the following code I download data for searches of the word *Netflix*, in Italy, from January 2029 to november 2020. Moreover, I visualize the outcome."
   ]
  },
  {
   "cell_type": "code",
   "execution_count": 98,
   "metadata": {},
   "outputs": [
    {
     "data": {
      "text/html": [
       "<dl>\n",
       "\t<dt>$interest_over_time</dt>\n",
       "\t\t<dd><table>\n",
       "<caption>A data.frame: 96 × 7</caption>\n",
       "<thead>\n",
       "\t<tr><th scope=col>date</th><th scope=col>hits</th><th scope=col>keyword</th><th scope=col>geo</th><th scope=col>time</th><th scope=col>gprop</th><th scope=col>category</th></tr>\n",
       "\t<tr><th scope=col>&lt;dttm&gt;</th><th scope=col>&lt;int&gt;</th><th scope=col>&lt;chr&gt;</th><th scope=col>&lt;chr&gt;</th><th scope=col>&lt;chr&gt;</th><th scope=col>&lt;chr&gt;</th><th scope=col>&lt;int&gt;</th></tr>\n",
       "</thead>\n",
       "<tbody>\n",
       "\t<tr><td>2020-01-05</td><td> 47</td><td>netflix</td><td>IT</td><td>2020-01-01 2020-11-30</td><td>web</td><td>0</td></tr>\n",
       "\t<tr><td>2020-01-12</td><td> 42</td><td>netflix</td><td>IT</td><td>2020-01-01 2020-11-30</td><td>web</td><td>0</td></tr>\n",
       "\t<tr><td>2020-01-19</td><td> 42</td><td>netflix</td><td>IT</td><td>2020-01-01 2020-11-30</td><td>web</td><td>0</td></tr>\n",
       "\t<tr><td>2020-01-26</td><td> 40</td><td>netflix</td><td>IT</td><td>2020-01-01 2020-11-30</td><td>web</td><td>0</td></tr>\n",
       "\t<tr><td>2020-02-02</td><td> 38</td><td>netflix</td><td>IT</td><td>2020-01-01 2020-11-30</td><td>web</td><td>0</td></tr>\n",
       "\t<tr><td>2020-02-09</td><td> 37</td><td>netflix</td><td>IT</td><td>2020-01-01 2020-11-30</td><td>web</td><td>0</td></tr>\n",
       "\t<tr><td>2020-02-16</td><td> 36</td><td>netflix</td><td>IT</td><td>2020-01-01 2020-11-30</td><td>web</td><td>0</td></tr>\n",
       "\t<tr><td>2020-02-23</td><td> 40</td><td>netflix</td><td>IT</td><td>2020-01-01 2020-11-30</td><td>web</td><td>0</td></tr>\n",
       "\t<tr><td>2020-03-01</td><td> 46</td><td>netflix</td><td>IT</td><td>2020-01-01 2020-11-30</td><td>web</td><td>0</td></tr>\n",
       "\t<tr><td>2020-03-08</td><td> 82</td><td>netflix</td><td>IT</td><td>2020-01-01 2020-11-30</td><td>web</td><td>0</td></tr>\n",
       "\t<tr><td>2020-03-15</td><td> 91</td><td>netflix</td><td>IT</td><td>2020-01-01 2020-11-30</td><td>web</td><td>0</td></tr>\n",
       "\t<tr><td>2020-03-22</td><td> 98</td><td>netflix</td><td>IT</td><td>2020-01-01 2020-11-30</td><td>web</td><td>0</td></tr>\n",
       "\t<tr><td>2020-03-29</td><td>100</td><td>netflix</td><td>IT</td><td>2020-01-01 2020-11-30</td><td>web</td><td>0</td></tr>\n",
       "\t<tr><td>2020-04-05</td><td> 94</td><td>netflix</td><td>IT</td><td>2020-01-01 2020-11-30</td><td>web</td><td>0</td></tr>\n",
       "\t<tr><td>2020-04-12</td><td> 92</td><td>netflix</td><td>IT</td><td>2020-01-01 2020-11-30</td><td>web</td><td>0</td></tr>\n",
       "\t<tr><td>2020-04-19</td><td> 84</td><td>netflix</td><td>IT</td><td>2020-01-01 2020-11-30</td><td>web</td><td>0</td></tr>\n",
       "\t<tr><td>2020-04-26</td><td> 85</td><td>netflix</td><td>IT</td><td>2020-01-01 2020-11-30</td><td>web</td><td>0</td></tr>\n",
       "\t<tr><td>2020-05-03</td><td> 65</td><td>netflix</td><td>IT</td><td>2020-01-01 2020-11-30</td><td>web</td><td>0</td></tr>\n",
       "\t<tr><td>2020-05-10</td><td> 59</td><td>netflix</td><td>IT</td><td>2020-01-01 2020-11-30</td><td>web</td><td>0</td></tr>\n",
       "\t<tr><td>2020-05-17</td><td> 50</td><td>netflix</td><td>IT</td><td>2020-01-01 2020-11-30</td><td>web</td><td>0</td></tr>\n",
       "\t<tr><td>2020-05-24</td><td> 47</td><td>netflix</td><td>IT</td><td>2020-01-01 2020-11-30</td><td>web</td><td>0</td></tr>\n",
       "\t<tr><td>2020-05-31</td><td> 50</td><td>netflix</td><td>IT</td><td>2020-01-01 2020-11-30</td><td>web</td><td>0</td></tr>\n",
       "\t<tr><td>2020-06-07</td><td> 51</td><td>netflix</td><td>IT</td><td>2020-01-01 2020-11-30</td><td>web</td><td>0</td></tr>\n",
       "\t<tr><td>2020-06-14</td><td> 45</td><td>netflix</td><td>IT</td><td>2020-01-01 2020-11-30</td><td>web</td><td>0</td></tr>\n",
       "\t<tr><td>2020-06-21</td><td> 42</td><td>netflix</td><td>IT</td><td>2020-01-01 2020-11-30</td><td>web</td><td>0</td></tr>\n",
       "\t<tr><td>2020-06-28</td><td> 42</td><td>netflix</td><td>IT</td><td>2020-01-01 2020-11-30</td><td>web</td><td>0</td></tr>\n",
       "\t<tr><td>2020-07-05</td><td> 40</td><td>netflix</td><td>IT</td><td>2020-01-01 2020-11-30</td><td>web</td><td>0</td></tr>\n",
       "\t<tr><td>2020-07-12</td><td> 40</td><td>netflix</td><td>IT</td><td>2020-01-01 2020-11-30</td><td>web</td><td>0</td></tr>\n",
       "\t<tr><td>2020-07-19</td><td> 39</td><td>netflix</td><td>IT</td><td>2020-01-01 2020-11-30</td><td>web</td><td>0</td></tr>\n",
       "\t<tr><td>2020-07-26</td><td> 39</td><td>netflix</td><td>IT</td><td>2020-01-01 2020-11-30</td><td>web</td><td>0</td></tr>\n",
       "\t<tr><td>...</td><td>...</td><td>...</td><td>...</td><td>...</td><td>...</td><td>...</td></tr>\n",
       "\t<tr><td>2020-05-10</td><td>59</td><td>netflix</td><td>IT</td><td>2020-01-01 2020-11-30</td><td>web</td><td>0</td></tr>\n",
       "\t<tr><td>2020-05-17</td><td>50</td><td>netflix</td><td>IT</td><td>2020-01-01 2020-11-30</td><td>web</td><td>0</td></tr>\n",
       "\t<tr><td>2020-05-24</td><td>47</td><td>netflix</td><td>IT</td><td>2020-01-01 2020-11-30</td><td>web</td><td>0</td></tr>\n",
       "\t<tr><td>2020-05-31</td><td>50</td><td>netflix</td><td>IT</td><td>2020-01-01 2020-11-30</td><td>web</td><td>0</td></tr>\n",
       "\t<tr><td>2020-06-07</td><td>51</td><td>netflix</td><td>IT</td><td>2020-01-01 2020-11-30</td><td>web</td><td>0</td></tr>\n",
       "\t<tr><td>2020-06-14</td><td>45</td><td>netflix</td><td>IT</td><td>2020-01-01 2020-11-30</td><td>web</td><td>0</td></tr>\n",
       "\t<tr><td>2020-06-21</td><td>42</td><td>netflix</td><td>IT</td><td>2020-01-01 2020-11-30</td><td>web</td><td>0</td></tr>\n",
       "\t<tr><td>2020-06-28</td><td>42</td><td>netflix</td><td>IT</td><td>2020-01-01 2020-11-30</td><td>web</td><td>0</td></tr>\n",
       "\t<tr><td>2020-07-05</td><td>40</td><td>netflix</td><td>IT</td><td>2020-01-01 2020-11-30</td><td>web</td><td>0</td></tr>\n",
       "\t<tr><td>2020-07-12</td><td>40</td><td>netflix</td><td>IT</td><td>2020-01-01 2020-11-30</td><td>web</td><td>0</td></tr>\n",
       "\t<tr><td>2020-07-19</td><td>39</td><td>netflix</td><td>IT</td><td>2020-01-01 2020-11-30</td><td>web</td><td>0</td></tr>\n",
       "\t<tr><td>2020-07-26</td><td>39</td><td>netflix</td><td>IT</td><td>2020-01-01 2020-11-30</td><td>web</td><td>0</td></tr>\n",
       "\t<tr><td>2020-08-02</td><td>40</td><td>netflix</td><td>IT</td><td>2020-01-01 2020-11-30</td><td>web</td><td>0</td></tr>\n",
       "\t<tr><td>2020-08-09</td><td>37</td><td>netflix</td><td>IT</td><td>2020-01-01 2020-11-30</td><td>web</td><td>0</td></tr>\n",
       "\t<tr><td>2020-08-16</td><td>41</td><td>netflix</td><td>IT</td><td>2020-01-01 2020-11-30</td><td>web</td><td>0</td></tr>\n",
       "\t<tr><td>2020-08-23</td><td>44</td><td>netflix</td><td>IT</td><td>2020-01-01 2020-11-30</td><td>web</td><td>0</td></tr>\n",
       "\t<tr><td>2020-08-30</td><td>47</td><td>netflix</td><td>IT</td><td>2020-01-01 2020-11-30</td><td>web</td><td>0</td></tr>\n",
       "\t<tr><td>2020-09-06</td><td>45</td><td>netflix</td><td>IT</td><td>2020-01-01 2020-11-30</td><td>web</td><td>0</td></tr>\n",
       "\t<tr><td>2020-09-13</td><td>44</td><td>netflix</td><td>IT</td><td>2020-01-01 2020-11-30</td><td>web</td><td>0</td></tr>\n",
       "\t<tr><td>2020-09-20</td><td>42</td><td>netflix</td><td>IT</td><td>2020-01-01 2020-11-30</td><td>web</td><td>0</td></tr>\n",
       "\t<tr><td>2020-09-27</td><td>41</td><td>netflix</td><td>IT</td><td>2020-01-01 2020-11-30</td><td>web</td><td>0</td></tr>\n",
       "\t<tr><td>2020-10-04</td><td>40</td><td>netflix</td><td>IT</td><td>2020-01-01 2020-11-30</td><td>web</td><td>0</td></tr>\n",
       "\t<tr><td>2020-10-11</td><td>42</td><td>netflix</td><td>IT</td><td>2020-01-01 2020-11-30</td><td>web</td><td>0</td></tr>\n",
       "\t<tr><td>2020-10-18</td><td>42</td><td>netflix</td><td>IT</td><td>2020-01-01 2020-11-30</td><td>web</td><td>0</td></tr>\n",
       "\t<tr><td>2020-10-25</td><td>52</td><td>netflix</td><td>IT</td><td>2020-01-01 2020-11-30</td><td>web</td><td>0</td></tr>\n",
       "\t<tr><td>2020-11-01</td><td>50</td><td>netflix</td><td>IT</td><td>2020-01-01 2020-11-30</td><td>web</td><td>0</td></tr>\n",
       "\t<tr><td>2020-11-08</td><td>56</td><td>netflix</td><td>IT</td><td>2020-01-01 2020-11-30</td><td>web</td><td>0</td></tr>\n",
       "\t<tr><td>2020-11-15</td><td>59</td><td>netflix</td><td>IT</td><td>2020-01-01 2020-11-30</td><td>web</td><td>0</td></tr>\n",
       "\t<tr><td>2020-11-22</td><td>54</td><td>netflix</td><td>IT</td><td>2020-01-01 2020-11-30</td><td>web</td><td>0</td></tr>\n",
       "\t<tr><td>2020-11-29</td><td>63</td><td>netflix</td><td>IT</td><td>2020-01-01 2020-11-30</td><td>web</td><td>0</td></tr>\n",
       "</tbody>\n",
       "</table>\n",
       "</dd>\n",
       "\t<dt>$interest_by_country</dt>\n",
       "\t\t<dd>NULL</dd>\n",
       "\t<dt>$interest_by_region</dt>\n",
       "\t\t<dd><table>\n",
       "<caption>A data.frame: 20 × 5</caption>\n",
       "<thead>\n",
       "\t<tr><th scope=col>location</th><th scope=col>hits</th><th scope=col>keyword</th><th scope=col>geo</th><th scope=col>gprop</th></tr>\n",
       "\t<tr><th scope=col>&lt;chr&gt;</th><th scope=col>&lt;int&gt;</th><th scope=col>&lt;chr&gt;</th><th scope=col>&lt;chr&gt;</th><th scope=col>&lt;chr&gt;</th></tr>\n",
       "</thead>\n",
       "<tbody>\n",
       "\t<tr><td>Campania                       </td><td>100</td><td>netflix</td><td>IT</td><td>web</td></tr>\n",
       "\t<tr><td>Lazio                          </td><td> 96</td><td>netflix</td><td>IT</td><td>web</td></tr>\n",
       "\t<tr><td>Sicily                         </td><td> 94</td><td>netflix</td><td>IT</td><td>web</td></tr>\n",
       "\t<tr><td>Marche                         </td><td> 93</td><td>netflix</td><td>IT</td><td>web</td></tr>\n",
       "\t<tr><td>Umbria                         </td><td> 91</td><td>netflix</td><td>IT</td><td>web</td></tr>\n",
       "\t<tr><td>Tuscany                        </td><td> 91</td><td>netflix</td><td>IT</td><td>web</td></tr>\n",
       "\t<tr><td>Apulia                         </td><td> 91</td><td>netflix</td><td>IT</td><td>web</td></tr>\n",
       "\t<tr><td>Emilia-Romagna                 </td><td> 89</td><td>netflix</td><td>IT</td><td>web</td></tr>\n",
       "\t<tr><td>Piedmont                       </td><td> 89</td><td>netflix</td><td>IT</td><td>web</td></tr>\n",
       "\t<tr><td>Abruzzo                        </td><td> 89</td><td>netflix</td><td>IT</td><td>web</td></tr>\n",
       "\t<tr><td>Lombardy                       </td><td> 88</td><td>netflix</td><td>IT</td><td>web</td></tr>\n",
       "\t<tr><td>Liguria                        </td><td> 86</td><td>netflix</td><td>IT</td><td>web</td></tr>\n",
       "\t<tr><td>Basilicata                     </td><td> 85</td><td>netflix</td><td>IT</td><td>web</td></tr>\n",
       "\t<tr><td>Aosta                          </td><td> 82</td><td>netflix</td><td>IT</td><td>web</td></tr>\n",
       "\t<tr><td>Veneto                         </td><td> 82</td><td>netflix</td><td>IT</td><td>web</td></tr>\n",
       "\t<tr><td>Molise                         </td><td> 82</td><td>netflix</td><td>IT</td><td>web</td></tr>\n",
       "\t<tr><td>Calabria                       </td><td> 82</td><td>netflix</td><td>IT</td><td>web</td></tr>\n",
       "\t<tr><td>Sardinia                       </td><td> 81</td><td>netflix</td><td>IT</td><td>web</td></tr>\n",
       "\t<tr><td>Trentino-Alto Adige/South Tyrol</td><td> 79</td><td>netflix</td><td>IT</td><td>web</td></tr>\n",
       "\t<tr><td>Friuli-Venezia Giulia          </td><td> 74</td><td>netflix</td><td>IT</td><td>web</td></tr>\n",
       "</tbody>\n",
       "</table>\n",
       "</dd>\n",
       "\t<dt>$interest_by_dma</dt>\n",
       "\t\t<dd>NULL</dd>\n",
       "\t<dt>$interest_by_city</dt>\n",
       "\t\t<dd><table>\n",
       "<caption>A data.frame: 65 × 5</caption>\n",
       "<thead>\n",
       "\t<tr><th scope=col>location</th><th scope=col>hits</th><th scope=col>keyword</th><th scope=col>geo</th><th scope=col>gprop</th></tr>\n",
       "\t<tr><th scope=col>&lt;chr&gt;</th><th scope=col>&lt;int&gt;</th><th scope=col>&lt;chr&gt;</th><th scope=col>&lt;chr&gt;</th><th scope=col>&lt;chr&gt;</th></tr>\n",
       "</thead>\n",
       "<tbody>\n",
       "\t<tr><td>Genoa             </td><td>100</td><td>netflix</td><td>IT</td><td>web</td></tr>\n",
       "\t<tr><td>Pisa              </td><td> NA</td><td>netflix</td><td>IT</td><td>web</td></tr>\n",
       "\t<tr><td>Palermo           </td><td> 99</td><td>netflix</td><td>IT</td><td>web</td></tr>\n",
       "\t<tr><td>Livorno           </td><td> NA</td><td>netflix</td><td>IT</td><td>web</td></tr>\n",
       "\t<tr><td>Cinisello Balsamo </td><td> NA</td><td>netflix</td><td>IT</td><td>web</td></tr>\n",
       "\t<tr><td>Naples            </td><td> 98</td><td>netflix</td><td>IT</td><td>web</td></tr>\n",
       "\t<tr><td>Modena            </td><td> 97</td><td>netflix</td><td>IT</td><td>web</td></tr>\n",
       "\t<tr><td>Ostia             </td><td> NA</td><td>netflix</td><td>IT</td><td>web</td></tr>\n",
       "\t<tr><td>Cesena            </td><td> NA</td><td>netflix</td><td>IT</td><td>web</td></tr>\n",
       "\t<tr><td>Turin             </td><td> 96</td><td>netflix</td><td>IT</td><td>web</td></tr>\n",
       "\t<tr><td>Bari              </td><td> 96</td><td>netflix</td><td>IT</td><td>web</td></tr>\n",
       "\t<tr><td>Rovereto          </td><td> NA</td><td>netflix</td><td>IT</td><td>web</td></tr>\n",
       "\t<tr><td>Viareggio         </td><td> NA</td><td>netflix</td><td>IT</td><td>web</td></tr>\n",
       "\t<tr><td>Taranto           </td><td> NA</td><td>netflix</td><td>IT</td><td>web</td></tr>\n",
       "\t<tr><td>Reggio Emilia     </td><td> 94</td><td>netflix</td><td>IT</td><td>web</td></tr>\n",
       "\t<tr><td>Parma             </td><td> 94</td><td>netflix</td><td>IT</td><td>web</td></tr>\n",
       "\t<tr><td>Caserta           </td><td> NA</td><td>netflix</td><td>IT</td><td>web</td></tr>\n",
       "\t<tr><td>Pavia             </td><td> NA</td><td>netflix</td><td>IT</td><td>web</td></tr>\n",
       "\t<tr><td>Sesto San Giovanni</td><td> NA</td><td>netflix</td><td>IT</td><td>web</td></tr>\n",
       "\t<tr><td>Ravenna           </td><td> NA</td><td>netflix</td><td>IT</td><td>web</td></tr>\n",
       "\t<tr><td>Bologna           </td><td> 93</td><td>netflix</td><td>IT</td><td>web</td></tr>\n",
       "\t<tr><td>Pistoia           </td><td> NA</td><td>netflix</td><td>IT</td><td>web</td></tr>\n",
       "\t<tr><td>Lucca             </td><td> NA</td><td>netflix</td><td>IT</td><td>web</td></tr>\n",
       "\t<tr><td>Perugia           </td><td> NA</td><td>netflix</td><td>IT</td><td>web</td></tr>\n",
       "\t<tr><td>Sassari           </td><td> NA</td><td>netflix</td><td>IT</td><td>web</td></tr>\n",
       "\t<tr><td>Messina           </td><td> 92</td><td>netflix</td><td>IT</td><td>web</td></tr>\n",
       "\t<tr><td>Rome              </td><td> 92</td><td>netflix</td><td>IT</td><td>web</td></tr>\n",
       "\t<tr><td>Monza             </td><td> NA</td><td>netflix</td><td>IT</td><td>web</td></tr>\n",
       "\t<tr><td>Florence          </td><td> 91</td><td>netflix</td><td>IT</td><td>web</td></tr>\n",
       "\t<tr><td>Prato             </td><td> NA</td><td>netflix</td><td>IT</td><td>web</td></tr>\n",
       "\t<tr><td>...</td><td>...</td><td>...</td><td>...</td><td>...</td></tr>\n",
       "\t<tr><td>Foggia         </td><td>NA</td><td>netflix</td><td>IT</td><td>web</td></tr>\n",
       "\t<tr><td>Verona         </td><td>89</td><td>netflix</td><td>IT</td><td>web</td></tr>\n",
       "\t<tr><td>Como           </td><td>NA</td><td>netflix</td><td>IT</td><td>web</td></tr>\n",
       "\t<tr><td>La Spezia      </td><td>NA</td><td>netflix</td><td>IT</td><td>web</td></tr>\n",
       "\t<tr><td>Pescara        </td><td>NA</td><td>netflix</td><td>IT</td><td>web</td></tr>\n",
       "\t<tr><td>Milan          </td><td>87</td><td>netflix</td><td>IT</td><td>web</td></tr>\n",
       "\t<tr><td>Ancona         </td><td>NA</td><td>netflix</td><td>IT</td><td>web</td></tr>\n",
       "\t<tr><td>Ferrara        </td><td>NA</td><td>netflix</td><td>IT</td><td>web</td></tr>\n",
       "\t<tr><td>Padua          </td><td>86</td><td>netflix</td><td>IT</td><td>web</td></tr>\n",
       "\t<tr><td>Arezzo         </td><td>NA</td><td>netflix</td><td>IT</td><td>web</td></tr>\n",
       "\t<tr><td>Latina         </td><td>NA</td><td>netflix</td><td>IT</td><td>web</td></tr>\n",
       "\t<tr><td>Pesaro         </td><td>NA</td><td>netflix</td><td>IT</td><td>web</td></tr>\n",
       "\t<tr><td>Forli          </td><td>NA</td><td>netflix</td><td>IT</td><td>web</td></tr>\n",
       "\t<tr><td>Trieste        </td><td>83</td><td>netflix</td><td>IT</td><td>web</td></tr>\n",
       "\t<tr><td>Catania        </td><td>82</td><td>netflix</td><td>IT</td><td>web</td></tr>\n",
       "\t<tr><td>Bergamo        </td><td>NA</td><td>netflix</td><td>IT</td><td>web</td></tr>\n",
       "\t<tr><td>Novara         </td><td>NA</td><td>netflix</td><td>IT</td><td>web</td></tr>\n",
       "\t<tr><td>Rimini         </td><td>NA</td><td>netflix</td><td>IT</td><td>web</td></tr>\n",
       "\t<tr><td>Terni          </td><td>NA</td><td>netflix</td><td>IT</td><td>web</td></tr>\n",
       "\t<tr><td>Cagliari       </td><td>80</td><td>netflix</td><td>IT</td><td>web</td></tr>\n",
       "\t<tr><td>Catanzaro      </td><td>NA</td><td>netflix</td><td>IT</td><td>web</td></tr>\n",
       "\t<tr><td>Lecce          </td><td>NA</td><td>netflix</td><td>IT</td><td>web</td></tr>\n",
       "\t<tr><td>Brescia        </td><td>79</td><td>netflix</td><td>IT</td><td>web</td></tr>\n",
       "\t<tr><td>Bolzano        </td><td>NA</td><td>netflix</td><td>IT</td><td>web</td></tr>\n",
       "\t<tr><td>Varese         </td><td>NA</td><td>netflix</td><td>IT</td><td>web</td></tr>\n",
       "\t<tr><td>Piacenza       </td><td>NA</td><td>netflix</td><td>IT</td><td>web</td></tr>\n",
       "\t<tr><td>Reggio Calabria</td><td>NA</td><td>netflix</td><td>IT</td><td>web</td></tr>\n",
       "\t<tr><td>Venice         </td><td>77</td><td>netflix</td><td>IT</td><td>web</td></tr>\n",
       "\t<tr><td>Udine          </td><td>NA</td><td>netflix</td><td>IT</td><td>web</td></tr>\n",
       "\t<tr><td>Salerno        </td><td>70</td><td>netflix</td><td>IT</td><td>web</td></tr>\n",
       "</tbody>\n",
       "</table>\n",
       "</dd>\n",
       "\t<dt>$related_topics</dt>\n",
       "\t\t<dd>NULL</dd>\n",
       "\t<dt>$related_queries</dt>\n",
       "\t\t<dd><table>\n",
       "<caption>A data.frame: 100 × 6</caption>\n",
       "<thead>\n",
       "\t<tr><th scope=col>subject</th><th scope=col>related_queries</th><th scope=col>value</th><th scope=col>geo</th><th scope=col>keyword</th><th scope=col>category</th></tr>\n",
       "\t<tr><th scope=col>&lt;chr&gt;</th><th scope=col>&lt;chr&gt;</th><th scope=col>&lt;chr&gt;</th><th scope=col>&lt;chr&gt;</th><th scope=col>&lt;chr&gt;</th><th scope=col>&lt;int&gt;</th></tr>\n",
       "</thead>\n",
       "<tbody>\n",
       "\t<tr><td>100     </td><td>top   </td><td>netflix film             </td><td>IT</td><td>netflix</td><td>0</td></tr>\n",
       "\t<tr><td>75      </td><td>top   </td><td>netflix serie            </td><td>IT</td><td>netflix</td><td>0</td></tr>\n",
       "\t<tr><td>40      </td><td>top   </td><td>serie tv netflix         </td><td>IT</td><td>netflix</td><td>0</td></tr>\n",
       "\t<tr><td>39      </td><td>top   </td><td>serie tv                 </td><td>IT</td><td>netflix</td><td>0</td></tr>\n",
       "\t<tr><td>23      </td><td>top   </td><td>film su netflix          </td><td>IT</td><td>netflix</td><td>0</td></tr>\n",
       "\t<tr><td>20      </td><td>top   </td><td>netflix italia           </td><td>IT</td><td>netflix</td><td>0</td></tr>\n",
       "\t<tr><td>17      </td><td>top   </td><td>netflix gratis           </td><td>IT</td><td>netflix</td><td>0</td></tr>\n",
       "\t<tr><td>11      </td><td>top   </td><td>film di netflix          </td><td>IT</td><td>netflix</td><td>0</td></tr>\n",
       "\t<tr><td>11      </td><td>top   </td><td>netflix film da vedere   </td><td>IT</td><td>netflix</td><td>0</td></tr>\n",
       "\t<tr><td>11      </td><td>top   </td><td>film da vedere           </td><td>IT</td><td>netflix</td><td>0</td></tr>\n",
       "\t<tr><td>9       </td><td>top   </td><td>serie su netflix         </td><td>IT</td><td>netflix</td><td>0</td></tr>\n",
       "\t<tr><td>9       </td><td>top   </td><td>netflix abbonamento      </td><td>IT</td><td>netflix</td><td>0</td></tr>\n",
       "\t<tr><td>8       </td><td>top   </td><td>film netflix 2020        </td><td>IT</td><td>netflix</td><td>0</td></tr>\n",
       "\t<tr><td>8       </td><td>top   </td><td>film 2020                </td><td>IT</td><td>netflix</td><td>0</td></tr>\n",
       "\t<tr><td>8       </td><td>top   </td><td>costo netflix            </td><td>IT</td><td>netflix</td><td>0</td></tr>\n",
       "\t<tr><td>8       </td><td>top   </td><td>sky netflix              </td><td>IT</td><td>netflix</td><td>0</td></tr>\n",
       "\t<tr><td>8       </td><td>top   </td><td>netflix party            </td><td>IT</td><td>netflix</td><td>0</td></tr>\n",
       "\t<tr><td>8       </td><td>top   </td><td>da vedere su netflix     </td><td>IT</td><td>netflix</td><td>0</td></tr>\n",
       "\t<tr><td>8       </td><td>top   </td><td>netflix login            </td><td>IT</td><td>netflix</td><td>0</td></tr>\n",
       "\t<tr><td>7       </td><td>top   </td><td>account netflix          </td><td>IT</td><td>netflix</td><td>0</td></tr>\n",
       "\t<tr><td>7       </td><td>top   </td><td>migliori serie netflix   </td><td>IT</td><td>netflix</td><td>0</td></tr>\n",
       "\t<tr><td>6       </td><td>top   </td><td>film da vedere su netflix</td><td>IT</td><td>netflix</td><td>0</td></tr>\n",
       "\t<tr><td>6       </td><td>top   </td><td>serie netflix da vedere  </td><td>IT</td><td>netflix</td><td>0</td></tr>\n",
       "\t<tr><td>6       </td><td>top   </td><td>netflix serie da vedere  </td><td>IT</td><td>netflix</td><td>0</td></tr>\n",
       "\t<tr><td>5       </td><td>top   </td><td>netflix app              </td><td>IT</td><td>netflix</td><td>0</td></tr>\n",
       "\t<tr><td>Breakout</td><td>rising</td><td>il buco netflix          </td><td>IT</td><td>netflix</td><td>0</td></tr>\n",
       "\t<tr><td>Breakout</td><td>rising</td><td>contagion netflix        </td><td>IT</td><td>netflix</td><td>0</td></tr>\n",
       "\t<tr><td>Breakout</td><td>rising</td><td>vis a vis el oasis       </td><td>IT</td><td>netflix</td><td>0</td></tr>\n",
       "\t<tr><td>Breakout</td><td>rising</td><td>toy boy serie netflix    </td><td>IT</td><td>netflix</td><td>0</td></tr>\n",
       "\t<tr><td>Breakout</td><td>rising</td><td>ratched netflix          </td><td>IT</td><td>netflix</td><td>0</td></tr>\n",
       "\t<tr><td>...</td><td>...</td><td>...</td><td>...</td><td>...</td><td>...</td></tr>\n",
       "\t<tr><td>7       </td><td>top   </td><td>migliori serie netflix                      </td><td>IT</td><td>netflix</td><td>0</td></tr>\n",
       "\t<tr><td>6       </td><td>top   </td><td>film da vedere su netflix                   </td><td>IT</td><td>netflix</td><td>0</td></tr>\n",
       "\t<tr><td>6       </td><td>top   </td><td>serie netflix da vedere                     </td><td>IT</td><td>netflix</td><td>0</td></tr>\n",
       "\t<tr><td>6       </td><td>top   </td><td>netflix serie da vedere                     </td><td>IT</td><td>netflix</td><td>0</td></tr>\n",
       "\t<tr><td>5       </td><td>top   </td><td>netflix app                                 </td><td>IT</td><td>netflix</td><td>0</td></tr>\n",
       "\t<tr><td>Breakout</td><td>rising</td><td>il buco netflix                             </td><td>IT</td><td>netflix</td><td>0</td></tr>\n",
       "\t<tr><td>Breakout</td><td>rising</td><td>contagion netflix                           </td><td>IT</td><td>netflix</td><td>0</td></tr>\n",
       "\t<tr><td>Breakout</td><td>rising</td><td>vis a vis el oasis                          </td><td>IT</td><td>netflix</td><td>0</td></tr>\n",
       "\t<tr><td>Breakout</td><td>rising</td><td>toy boy serie netflix                       </td><td>IT</td><td>netflix</td><td>0</td></tr>\n",
       "\t<tr><td>Breakout</td><td>rising</td><td>ratched netflix                             </td><td>IT</td><td>netflix</td><td>0</td></tr>\n",
       "\t<tr><td>Breakout</td><td>rising</td><td>parasite netflix                            </td><td>IT</td><td>netflix</td><td>0</td></tr>\n",
       "\t<tr><td>Breakout</td><td>rising</td><td>unorthodox netflix                          </td><td>IT</td><td>netflix</td><td>0</td></tr>\n",
       "\t<tr><td>Breakout</td><td>rising</td><td>barbari netflix                             </td><td>IT</td><td>netflix</td><td>0</td></tr>\n",
       "\t<tr><td>Breakout</td><td>rising</td><td>il buco                                     </td><td>IT</td><td>netflix</td><td>0</td></tr>\n",
       "\t<tr><td>Breakout</td><td>rising</td><td>toy boy serie netflix cast                  </td><td>IT</td><td>netflix</td><td>0</td></tr>\n",
       "\t<tr><td>+4,900% </td><td>rising</td><td>film netflix 2020                           </td><td>IT</td><td>netflix</td><td>0</td></tr>\n",
       "\t<tr><td>+4,250% </td><td>rising</td><td>il suo ultimo desiderio netflix             </td><td>IT</td><td>netflix</td><td>0</td></tr>\n",
       "\t<tr><td>+3,400% </td><td>rising</td><td>film 2020                                   </td><td>IT</td><td>netflix</td><td>0</td></tr>\n",
       "\t<tr><td>+3,300% </td><td>rising</td><td>the 100 stagione 7                          </td><td>IT</td><td>netflix</td><td>0</td></tr>\n",
       "\t<tr><td>+3,150% </td><td>rising</td><td>freud netflix                               </td><td>IT</td><td>netflix</td><td>0</td></tr>\n",
       "\t<tr><td>+3,150% </td><td>rising</td><td>freud                                       </td><td>IT</td><td>netflix</td><td>0</td></tr>\n",
       "\t<tr><td>+3,100% </td><td>rising</td><td>a che ora esce la casa di carta 4 su netflix</td><td>IT</td><td>netflix</td><td>0</td></tr>\n",
       "\t<tr><td>+2,950% </td><td>rising</td><td>non ho mai netflix                          </td><td>IT</td><td>netflix</td><td>0</td></tr>\n",
       "\t<tr><td>+2,300% </td><td>rising</td><td>after 2 netflix                             </td><td>IT</td><td>netflix</td><td>0</td></tr>\n",
       "\t<tr><td>+1,950% </td><td>rising</td><td>serie netflix 2020                          </td><td>IT</td><td>netflix</td><td>0</td></tr>\n",
       "\t<tr><td>+1,850% </td><td>rising</td><td>serie tv netflix 2020                       </td><td>IT</td><td>netflix</td><td>0</td></tr>\n",
       "\t<tr><td>+1,650% </td><td>rising</td><td>hoops netflix                               </td><td>IT</td><td>netflix</td><td>0</td></tr>\n",
       "\t<tr><td>+1,600% </td><td>rising</td><td>messiah netflix                             </td><td>IT</td><td>netflix</td><td>0</td></tr>\n",
       "\t<tr><td>+1,600% </td><td>rising</td><td>netflix party                               </td><td>IT</td><td>netflix</td><td>0</td></tr>\n",
       "\t<tr><td>+1,550% </td><td>rising</td><td>snowpiercer                                 </td><td>IT</td><td>netflix</td><td>0</td></tr>\n",
       "</tbody>\n",
       "</table>\n",
       "</dd>\n",
       "</dl>\n"
      ],
      "text/latex": [
       "\\begin{description}\n",
       "\\item[\\$interest\\_over\\_time] A data.frame: 96 × 7\n",
       "\\begin{tabular}{lllllll}\n",
       " date & hits & keyword & geo & time & gprop & category\\\\\n",
       " <dttm> & <int> & <chr> & <chr> & <chr> & <chr> & <int>\\\\\n",
       "\\hline\n",
       "\t 2020-01-05 &  47 & netflix & IT & 2020-01-01 2020-11-30 & web & 0\\\\\n",
       "\t 2020-01-12 &  42 & netflix & IT & 2020-01-01 2020-11-30 & web & 0\\\\\n",
       "\t 2020-01-19 &  42 & netflix & IT & 2020-01-01 2020-11-30 & web & 0\\\\\n",
       "\t 2020-01-26 &  40 & netflix & IT & 2020-01-01 2020-11-30 & web & 0\\\\\n",
       "\t 2020-02-02 &  38 & netflix & IT & 2020-01-01 2020-11-30 & web & 0\\\\\n",
       "\t 2020-02-09 &  37 & netflix & IT & 2020-01-01 2020-11-30 & web & 0\\\\\n",
       "\t 2020-02-16 &  36 & netflix & IT & 2020-01-01 2020-11-30 & web & 0\\\\\n",
       "\t 2020-02-23 &  40 & netflix & IT & 2020-01-01 2020-11-30 & web & 0\\\\\n",
       "\t 2020-03-01 &  46 & netflix & IT & 2020-01-01 2020-11-30 & web & 0\\\\\n",
       "\t 2020-03-08 &  82 & netflix & IT & 2020-01-01 2020-11-30 & web & 0\\\\\n",
       "\t 2020-03-15 &  91 & netflix & IT & 2020-01-01 2020-11-30 & web & 0\\\\\n",
       "\t 2020-03-22 &  98 & netflix & IT & 2020-01-01 2020-11-30 & web & 0\\\\\n",
       "\t 2020-03-29 & 100 & netflix & IT & 2020-01-01 2020-11-30 & web & 0\\\\\n",
       "\t 2020-04-05 &  94 & netflix & IT & 2020-01-01 2020-11-30 & web & 0\\\\\n",
       "\t 2020-04-12 &  92 & netflix & IT & 2020-01-01 2020-11-30 & web & 0\\\\\n",
       "\t 2020-04-19 &  84 & netflix & IT & 2020-01-01 2020-11-30 & web & 0\\\\\n",
       "\t 2020-04-26 &  85 & netflix & IT & 2020-01-01 2020-11-30 & web & 0\\\\\n",
       "\t 2020-05-03 &  65 & netflix & IT & 2020-01-01 2020-11-30 & web & 0\\\\\n",
       "\t 2020-05-10 &  59 & netflix & IT & 2020-01-01 2020-11-30 & web & 0\\\\\n",
       "\t 2020-05-17 &  50 & netflix & IT & 2020-01-01 2020-11-30 & web & 0\\\\\n",
       "\t 2020-05-24 &  47 & netflix & IT & 2020-01-01 2020-11-30 & web & 0\\\\\n",
       "\t 2020-05-31 &  50 & netflix & IT & 2020-01-01 2020-11-30 & web & 0\\\\\n",
       "\t 2020-06-07 &  51 & netflix & IT & 2020-01-01 2020-11-30 & web & 0\\\\\n",
       "\t 2020-06-14 &  45 & netflix & IT & 2020-01-01 2020-11-30 & web & 0\\\\\n",
       "\t 2020-06-21 &  42 & netflix & IT & 2020-01-01 2020-11-30 & web & 0\\\\\n",
       "\t 2020-06-28 &  42 & netflix & IT & 2020-01-01 2020-11-30 & web & 0\\\\\n",
       "\t 2020-07-05 &  40 & netflix & IT & 2020-01-01 2020-11-30 & web & 0\\\\\n",
       "\t 2020-07-12 &  40 & netflix & IT & 2020-01-01 2020-11-30 & web & 0\\\\\n",
       "\t 2020-07-19 &  39 & netflix & IT & 2020-01-01 2020-11-30 & web & 0\\\\\n",
       "\t 2020-07-26 &  39 & netflix & IT & 2020-01-01 2020-11-30 & web & 0\\\\\n",
       "\t ... & ... & ... & ... & ... & ... & ...\\\\\n",
       "\t 2020-05-10 & 59 & netflix & IT & 2020-01-01 2020-11-30 & web & 0\\\\\n",
       "\t 2020-05-17 & 50 & netflix & IT & 2020-01-01 2020-11-30 & web & 0\\\\\n",
       "\t 2020-05-24 & 47 & netflix & IT & 2020-01-01 2020-11-30 & web & 0\\\\\n",
       "\t 2020-05-31 & 50 & netflix & IT & 2020-01-01 2020-11-30 & web & 0\\\\\n",
       "\t 2020-06-07 & 51 & netflix & IT & 2020-01-01 2020-11-30 & web & 0\\\\\n",
       "\t 2020-06-14 & 45 & netflix & IT & 2020-01-01 2020-11-30 & web & 0\\\\\n",
       "\t 2020-06-21 & 42 & netflix & IT & 2020-01-01 2020-11-30 & web & 0\\\\\n",
       "\t 2020-06-28 & 42 & netflix & IT & 2020-01-01 2020-11-30 & web & 0\\\\\n",
       "\t 2020-07-05 & 40 & netflix & IT & 2020-01-01 2020-11-30 & web & 0\\\\\n",
       "\t 2020-07-12 & 40 & netflix & IT & 2020-01-01 2020-11-30 & web & 0\\\\\n",
       "\t 2020-07-19 & 39 & netflix & IT & 2020-01-01 2020-11-30 & web & 0\\\\\n",
       "\t 2020-07-26 & 39 & netflix & IT & 2020-01-01 2020-11-30 & web & 0\\\\\n",
       "\t 2020-08-02 & 40 & netflix & IT & 2020-01-01 2020-11-30 & web & 0\\\\\n",
       "\t 2020-08-09 & 37 & netflix & IT & 2020-01-01 2020-11-30 & web & 0\\\\\n",
       "\t 2020-08-16 & 41 & netflix & IT & 2020-01-01 2020-11-30 & web & 0\\\\\n",
       "\t 2020-08-23 & 44 & netflix & IT & 2020-01-01 2020-11-30 & web & 0\\\\\n",
       "\t 2020-08-30 & 47 & netflix & IT & 2020-01-01 2020-11-30 & web & 0\\\\\n",
       "\t 2020-09-06 & 45 & netflix & IT & 2020-01-01 2020-11-30 & web & 0\\\\\n",
       "\t 2020-09-13 & 44 & netflix & IT & 2020-01-01 2020-11-30 & web & 0\\\\\n",
       "\t 2020-09-20 & 42 & netflix & IT & 2020-01-01 2020-11-30 & web & 0\\\\\n",
       "\t 2020-09-27 & 41 & netflix & IT & 2020-01-01 2020-11-30 & web & 0\\\\\n",
       "\t 2020-10-04 & 40 & netflix & IT & 2020-01-01 2020-11-30 & web & 0\\\\\n",
       "\t 2020-10-11 & 42 & netflix & IT & 2020-01-01 2020-11-30 & web & 0\\\\\n",
       "\t 2020-10-18 & 42 & netflix & IT & 2020-01-01 2020-11-30 & web & 0\\\\\n",
       "\t 2020-10-25 & 52 & netflix & IT & 2020-01-01 2020-11-30 & web & 0\\\\\n",
       "\t 2020-11-01 & 50 & netflix & IT & 2020-01-01 2020-11-30 & web & 0\\\\\n",
       "\t 2020-11-08 & 56 & netflix & IT & 2020-01-01 2020-11-30 & web & 0\\\\\n",
       "\t 2020-11-15 & 59 & netflix & IT & 2020-01-01 2020-11-30 & web & 0\\\\\n",
       "\t 2020-11-22 & 54 & netflix & IT & 2020-01-01 2020-11-30 & web & 0\\\\\n",
       "\t 2020-11-29 & 63 & netflix & IT & 2020-01-01 2020-11-30 & web & 0\\\\\n",
       "\\end{tabular}\n",
       "\n",
       "\\item[\\$interest\\_by\\_country] NULL\n",
       "\\item[\\$interest\\_by\\_region] A data.frame: 20 × 5\n",
       "\\begin{tabular}{lllll}\n",
       " location & hits & keyword & geo & gprop\\\\\n",
       " <chr> & <int> & <chr> & <chr> & <chr>\\\\\n",
       "\\hline\n",
       "\t Campania                        & 100 & netflix & IT & web\\\\\n",
       "\t Lazio                           &  96 & netflix & IT & web\\\\\n",
       "\t Sicily                          &  94 & netflix & IT & web\\\\\n",
       "\t Marche                          &  93 & netflix & IT & web\\\\\n",
       "\t Umbria                          &  91 & netflix & IT & web\\\\\n",
       "\t Tuscany                         &  91 & netflix & IT & web\\\\\n",
       "\t Apulia                          &  91 & netflix & IT & web\\\\\n",
       "\t Emilia-Romagna                  &  89 & netflix & IT & web\\\\\n",
       "\t Piedmont                        &  89 & netflix & IT & web\\\\\n",
       "\t Abruzzo                         &  89 & netflix & IT & web\\\\\n",
       "\t Lombardy                        &  88 & netflix & IT & web\\\\\n",
       "\t Liguria                         &  86 & netflix & IT & web\\\\\n",
       "\t Basilicata                      &  85 & netflix & IT & web\\\\\n",
       "\t Aosta                           &  82 & netflix & IT & web\\\\\n",
       "\t Veneto                          &  82 & netflix & IT & web\\\\\n",
       "\t Molise                          &  82 & netflix & IT & web\\\\\n",
       "\t Calabria                        &  82 & netflix & IT & web\\\\\n",
       "\t Sardinia                        &  81 & netflix & IT & web\\\\\n",
       "\t Trentino-Alto Adige/South Tyrol &  79 & netflix & IT & web\\\\\n",
       "\t Friuli-Venezia Giulia           &  74 & netflix & IT & web\\\\\n",
       "\\end{tabular}\n",
       "\n",
       "\\item[\\$interest\\_by\\_dma] NULL\n",
       "\\item[\\$interest\\_by\\_city] A data.frame: 65 × 5\n",
       "\\begin{tabular}{lllll}\n",
       " location & hits & keyword & geo & gprop\\\\\n",
       " <chr> & <int> & <chr> & <chr> & <chr>\\\\\n",
       "\\hline\n",
       "\t Genoa              & 100 & netflix & IT & web\\\\\n",
       "\t Pisa               &  NA & netflix & IT & web\\\\\n",
       "\t Palermo            &  99 & netflix & IT & web\\\\\n",
       "\t Livorno            &  NA & netflix & IT & web\\\\\n",
       "\t Cinisello Balsamo  &  NA & netflix & IT & web\\\\\n",
       "\t Naples             &  98 & netflix & IT & web\\\\\n",
       "\t Modena             &  97 & netflix & IT & web\\\\\n",
       "\t Ostia              &  NA & netflix & IT & web\\\\\n",
       "\t Cesena             &  NA & netflix & IT & web\\\\\n",
       "\t Turin              &  96 & netflix & IT & web\\\\\n",
       "\t Bari               &  96 & netflix & IT & web\\\\\n",
       "\t Rovereto           &  NA & netflix & IT & web\\\\\n",
       "\t Viareggio          &  NA & netflix & IT & web\\\\\n",
       "\t Taranto            &  NA & netflix & IT & web\\\\\n",
       "\t Reggio Emilia      &  94 & netflix & IT & web\\\\\n",
       "\t Parma              &  94 & netflix & IT & web\\\\\n",
       "\t Caserta            &  NA & netflix & IT & web\\\\\n",
       "\t Pavia              &  NA & netflix & IT & web\\\\\n",
       "\t Sesto San Giovanni &  NA & netflix & IT & web\\\\\n",
       "\t Ravenna            &  NA & netflix & IT & web\\\\\n",
       "\t Bologna            &  93 & netflix & IT & web\\\\\n",
       "\t Pistoia            &  NA & netflix & IT & web\\\\\n",
       "\t Lucca              &  NA & netflix & IT & web\\\\\n",
       "\t Perugia            &  NA & netflix & IT & web\\\\\n",
       "\t Sassari            &  NA & netflix & IT & web\\\\\n",
       "\t Messina            &  92 & netflix & IT & web\\\\\n",
       "\t Rome               &  92 & netflix & IT & web\\\\\n",
       "\t Monza              &  NA & netflix & IT & web\\\\\n",
       "\t Florence           &  91 & netflix & IT & web\\\\\n",
       "\t Prato              &  NA & netflix & IT & web\\\\\n",
       "\t ... & ... & ... & ... & ...\\\\\n",
       "\t Foggia          & NA & netflix & IT & web\\\\\n",
       "\t Verona          & 89 & netflix & IT & web\\\\\n",
       "\t Como            & NA & netflix & IT & web\\\\\n",
       "\t La Spezia       & NA & netflix & IT & web\\\\\n",
       "\t Pescara         & NA & netflix & IT & web\\\\\n",
       "\t Milan           & 87 & netflix & IT & web\\\\\n",
       "\t Ancona          & NA & netflix & IT & web\\\\\n",
       "\t Ferrara         & NA & netflix & IT & web\\\\\n",
       "\t Padua           & 86 & netflix & IT & web\\\\\n",
       "\t Arezzo          & NA & netflix & IT & web\\\\\n",
       "\t Latina          & NA & netflix & IT & web\\\\\n",
       "\t Pesaro          & NA & netflix & IT & web\\\\\n",
       "\t Forli           & NA & netflix & IT & web\\\\\n",
       "\t Trieste         & 83 & netflix & IT & web\\\\\n",
       "\t Catania         & 82 & netflix & IT & web\\\\\n",
       "\t Bergamo         & NA & netflix & IT & web\\\\\n",
       "\t Novara          & NA & netflix & IT & web\\\\\n",
       "\t Rimini          & NA & netflix & IT & web\\\\\n",
       "\t Terni           & NA & netflix & IT & web\\\\\n",
       "\t Cagliari        & 80 & netflix & IT & web\\\\\n",
       "\t Catanzaro       & NA & netflix & IT & web\\\\\n",
       "\t Lecce           & NA & netflix & IT & web\\\\\n",
       "\t Brescia         & 79 & netflix & IT & web\\\\\n",
       "\t Bolzano         & NA & netflix & IT & web\\\\\n",
       "\t Varese          & NA & netflix & IT & web\\\\\n",
       "\t Piacenza        & NA & netflix & IT & web\\\\\n",
       "\t Reggio Calabria & NA & netflix & IT & web\\\\\n",
       "\t Venice          & 77 & netflix & IT & web\\\\\n",
       "\t Udine           & NA & netflix & IT & web\\\\\n",
       "\t Salerno         & 70 & netflix & IT & web\\\\\n",
       "\\end{tabular}\n",
       "\n",
       "\\item[\\$related\\_topics] NULL\n",
       "\\item[\\$related\\_queries] A data.frame: 100 × 6\n",
       "\\begin{tabular}{llllll}\n",
       " subject & related\\_queries & value & geo & keyword & category\\\\\n",
       " <chr> & <chr> & <chr> & <chr> & <chr> & <int>\\\\\n",
       "\\hline\n",
       "\t 100      & top    & netflix film              & IT & netflix & 0\\\\\n",
       "\t 75       & top    & netflix serie             & IT & netflix & 0\\\\\n",
       "\t 40       & top    & serie tv netflix          & IT & netflix & 0\\\\\n",
       "\t 39       & top    & serie tv                  & IT & netflix & 0\\\\\n",
       "\t 23       & top    & film su netflix           & IT & netflix & 0\\\\\n",
       "\t 20       & top    & netflix italia            & IT & netflix & 0\\\\\n",
       "\t 17       & top    & netflix gratis            & IT & netflix & 0\\\\\n",
       "\t 11       & top    & film di netflix           & IT & netflix & 0\\\\\n",
       "\t 11       & top    & netflix film da vedere    & IT & netflix & 0\\\\\n",
       "\t 11       & top    & film da vedere            & IT & netflix & 0\\\\\n",
       "\t 9        & top    & serie su netflix          & IT & netflix & 0\\\\\n",
       "\t 9        & top    & netflix abbonamento       & IT & netflix & 0\\\\\n",
       "\t 8        & top    & film netflix 2020         & IT & netflix & 0\\\\\n",
       "\t 8        & top    & film 2020                 & IT & netflix & 0\\\\\n",
       "\t 8        & top    & costo netflix             & IT & netflix & 0\\\\\n",
       "\t 8        & top    & sky netflix               & IT & netflix & 0\\\\\n",
       "\t 8        & top    & netflix party             & IT & netflix & 0\\\\\n",
       "\t 8        & top    & da vedere su netflix      & IT & netflix & 0\\\\\n",
       "\t 8        & top    & netflix login             & IT & netflix & 0\\\\\n",
       "\t 7        & top    & account netflix           & IT & netflix & 0\\\\\n",
       "\t 7        & top    & migliori serie netflix    & IT & netflix & 0\\\\\n",
       "\t 6        & top    & film da vedere su netflix & IT & netflix & 0\\\\\n",
       "\t 6        & top    & serie netflix da vedere   & IT & netflix & 0\\\\\n",
       "\t 6        & top    & netflix serie da vedere   & IT & netflix & 0\\\\\n",
       "\t 5        & top    & netflix app               & IT & netflix & 0\\\\\n",
       "\t Breakout & rising & il buco netflix           & IT & netflix & 0\\\\\n",
       "\t Breakout & rising & contagion netflix         & IT & netflix & 0\\\\\n",
       "\t Breakout & rising & vis a vis el oasis        & IT & netflix & 0\\\\\n",
       "\t Breakout & rising & toy boy serie netflix     & IT & netflix & 0\\\\\n",
       "\t Breakout & rising & ratched netflix           & IT & netflix & 0\\\\\n",
       "\t ... & ... & ... & ... & ... & ...\\\\\n",
       "\t 7        & top    & migliori serie netflix                       & IT & netflix & 0\\\\\n",
       "\t 6        & top    & film da vedere su netflix                    & IT & netflix & 0\\\\\n",
       "\t 6        & top    & serie netflix da vedere                      & IT & netflix & 0\\\\\n",
       "\t 6        & top    & netflix serie da vedere                      & IT & netflix & 0\\\\\n",
       "\t 5        & top    & netflix app                                  & IT & netflix & 0\\\\\n",
       "\t Breakout & rising & il buco netflix                              & IT & netflix & 0\\\\\n",
       "\t Breakout & rising & contagion netflix                            & IT & netflix & 0\\\\\n",
       "\t Breakout & rising & vis a vis el oasis                           & IT & netflix & 0\\\\\n",
       "\t Breakout & rising & toy boy serie netflix                        & IT & netflix & 0\\\\\n",
       "\t Breakout & rising & ratched netflix                              & IT & netflix & 0\\\\\n",
       "\t Breakout & rising & parasite netflix                             & IT & netflix & 0\\\\\n",
       "\t Breakout & rising & unorthodox netflix                           & IT & netflix & 0\\\\\n",
       "\t Breakout & rising & barbari netflix                              & IT & netflix & 0\\\\\n",
       "\t Breakout & rising & il buco                                      & IT & netflix & 0\\\\\n",
       "\t Breakout & rising & toy boy serie netflix cast                   & IT & netflix & 0\\\\\n",
       "\t +4,900\\%  & rising & film netflix 2020                            & IT & netflix & 0\\\\\n",
       "\t +4,250\\%  & rising & il suo ultimo desiderio netflix              & IT & netflix & 0\\\\\n",
       "\t +3,400\\%  & rising & film 2020                                    & IT & netflix & 0\\\\\n",
       "\t +3,300\\%  & rising & the 100 stagione 7                           & IT & netflix & 0\\\\\n",
       "\t +3,150\\%  & rising & freud netflix                                & IT & netflix & 0\\\\\n",
       "\t +3,150\\%  & rising & freud                                        & IT & netflix & 0\\\\\n",
       "\t +3,100\\%  & rising & a che ora esce la casa di carta 4 su netflix & IT & netflix & 0\\\\\n",
       "\t +2,950\\%  & rising & non ho mai netflix                           & IT & netflix & 0\\\\\n",
       "\t +2,300\\%  & rising & after 2 netflix                              & IT & netflix & 0\\\\\n",
       "\t +1,950\\%  & rising & serie netflix 2020                           & IT & netflix & 0\\\\\n",
       "\t +1,850\\%  & rising & serie tv netflix 2020                        & IT & netflix & 0\\\\\n",
       "\t +1,650\\%  & rising & hoops netflix                                & IT & netflix & 0\\\\\n",
       "\t +1,600\\%  & rising & messiah netflix                              & IT & netflix & 0\\\\\n",
       "\t +1,600\\%  & rising & netflix party                                & IT & netflix & 0\\\\\n",
       "\t +1,550\\%  & rising & snowpiercer                                  & IT & netflix & 0\\\\\n",
       "\\end{tabular}\n",
       "\n",
       "\\end{description}\n"
      ],
      "text/markdown": [
       "$interest_over_time\n",
       ":   \n",
       "A data.frame: 96 × 7\n",
       "\n",
       "| date &lt;dttm&gt; | hits &lt;int&gt; | keyword &lt;chr&gt; | geo &lt;chr&gt; | time &lt;chr&gt; | gprop &lt;chr&gt; | category &lt;int&gt; |\n",
       "|---|---|---|---|---|---|---|\n",
       "| 2020-01-05 |  47 | netflix | IT | 2020-01-01 2020-11-30 | web | 0 |\n",
       "| 2020-01-12 |  42 | netflix | IT | 2020-01-01 2020-11-30 | web | 0 |\n",
       "| 2020-01-19 |  42 | netflix | IT | 2020-01-01 2020-11-30 | web | 0 |\n",
       "| 2020-01-26 |  40 | netflix | IT | 2020-01-01 2020-11-30 | web | 0 |\n",
       "| 2020-02-02 |  38 | netflix | IT | 2020-01-01 2020-11-30 | web | 0 |\n",
       "| 2020-02-09 |  37 | netflix | IT | 2020-01-01 2020-11-30 | web | 0 |\n",
       "| 2020-02-16 |  36 | netflix | IT | 2020-01-01 2020-11-30 | web | 0 |\n",
       "| 2020-02-23 |  40 | netflix | IT | 2020-01-01 2020-11-30 | web | 0 |\n",
       "| 2020-03-01 |  46 | netflix | IT | 2020-01-01 2020-11-30 | web | 0 |\n",
       "| 2020-03-08 |  82 | netflix | IT | 2020-01-01 2020-11-30 | web | 0 |\n",
       "| 2020-03-15 |  91 | netflix | IT | 2020-01-01 2020-11-30 | web | 0 |\n",
       "| 2020-03-22 |  98 | netflix | IT | 2020-01-01 2020-11-30 | web | 0 |\n",
       "| 2020-03-29 | 100 | netflix | IT | 2020-01-01 2020-11-30 | web | 0 |\n",
       "| 2020-04-05 |  94 | netflix | IT | 2020-01-01 2020-11-30 | web | 0 |\n",
       "| 2020-04-12 |  92 | netflix | IT | 2020-01-01 2020-11-30 | web | 0 |\n",
       "| 2020-04-19 |  84 | netflix | IT | 2020-01-01 2020-11-30 | web | 0 |\n",
       "| 2020-04-26 |  85 | netflix | IT | 2020-01-01 2020-11-30 | web | 0 |\n",
       "| 2020-05-03 |  65 | netflix | IT | 2020-01-01 2020-11-30 | web | 0 |\n",
       "| 2020-05-10 |  59 | netflix | IT | 2020-01-01 2020-11-30 | web | 0 |\n",
       "| 2020-05-17 |  50 | netflix | IT | 2020-01-01 2020-11-30 | web | 0 |\n",
       "| 2020-05-24 |  47 | netflix | IT | 2020-01-01 2020-11-30 | web | 0 |\n",
       "| 2020-05-31 |  50 | netflix | IT | 2020-01-01 2020-11-30 | web | 0 |\n",
       "| 2020-06-07 |  51 | netflix | IT | 2020-01-01 2020-11-30 | web | 0 |\n",
       "| 2020-06-14 |  45 | netflix | IT | 2020-01-01 2020-11-30 | web | 0 |\n",
       "| 2020-06-21 |  42 | netflix | IT | 2020-01-01 2020-11-30 | web | 0 |\n",
       "| 2020-06-28 |  42 | netflix | IT | 2020-01-01 2020-11-30 | web | 0 |\n",
       "| 2020-07-05 |  40 | netflix | IT | 2020-01-01 2020-11-30 | web | 0 |\n",
       "| 2020-07-12 |  40 | netflix | IT | 2020-01-01 2020-11-30 | web | 0 |\n",
       "| 2020-07-19 |  39 | netflix | IT | 2020-01-01 2020-11-30 | web | 0 |\n",
       "| 2020-07-26 |  39 | netflix | IT | 2020-01-01 2020-11-30 | web | 0 |\n",
       "| ... | ... | ... | ... | ... | ... | ... |\n",
       "| 2020-05-10 | 59 | netflix | IT | 2020-01-01 2020-11-30 | web | 0 |\n",
       "| 2020-05-17 | 50 | netflix | IT | 2020-01-01 2020-11-30 | web | 0 |\n",
       "| 2020-05-24 | 47 | netflix | IT | 2020-01-01 2020-11-30 | web | 0 |\n",
       "| 2020-05-31 | 50 | netflix | IT | 2020-01-01 2020-11-30 | web | 0 |\n",
       "| 2020-06-07 | 51 | netflix | IT | 2020-01-01 2020-11-30 | web | 0 |\n",
       "| 2020-06-14 | 45 | netflix | IT | 2020-01-01 2020-11-30 | web | 0 |\n",
       "| 2020-06-21 | 42 | netflix | IT | 2020-01-01 2020-11-30 | web | 0 |\n",
       "| 2020-06-28 | 42 | netflix | IT | 2020-01-01 2020-11-30 | web | 0 |\n",
       "| 2020-07-05 | 40 | netflix | IT | 2020-01-01 2020-11-30 | web | 0 |\n",
       "| 2020-07-12 | 40 | netflix | IT | 2020-01-01 2020-11-30 | web | 0 |\n",
       "| 2020-07-19 | 39 | netflix | IT | 2020-01-01 2020-11-30 | web | 0 |\n",
       "| 2020-07-26 | 39 | netflix | IT | 2020-01-01 2020-11-30 | web | 0 |\n",
       "| 2020-08-02 | 40 | netflix | IT | 2020-01-01 2020-11-30 | web | 0 |\n",
       "| 2020-08-09 | 37 | netflix | IT | 2020-01-01 2020-11-30 | web | 0 |\n",
       "| 2020-08-16 | 41 | netflix | IT | 2020-01-01 2020-11-30 | web | 0 |\n",
       "| 2020-08-23 | 44 | netflix | IT | 2020-01-01 2020-11-30 | web | 0 |\n",
       "| 2020-08-30 | 47 | netflix | IT | 2020-01-01 2020-11-30 | web | 0 |\n",
       "| 2020-09-06 | 45 | netflix | IT | 2020-01-01 2020-11-30 | web | 0 |\n",
       "| 2020-09-13 | 44 | netflix | IT | 2020-01-01 2020-11-30 | web | 0 |\n",
       "| 2020-09-20 | 42 | netflix | IT | 2020-01-01 2020-11-30 | web | 0 |\n",
       "| 2020-09-27 | 41 | netflix | IT | 2020-01-01 2020-11-30 | web | 0 |\n",
       "| 2020-10-04 | 40 | netflix | IT | 2020-01-01 2020-11-30 | web | 0 |\n",
       "| 2020-10-11 | 42 | netflix | IT | 2020-01-01 2020-11-30 | web | 0 |\n",
       "| 2020-10-18 | 42 | netflix | IT | 2020-01-01 2020-11-30 | web | 0 |\n",
       "| 2020-10-25 | 52 | netflix | IT | 2020-01-01 2020-11-30 | web | 0 |\n",
       "| 2020-11-01 | 50 | netflix | IT | 2020-01-01 2020-11-30 | web | 0 |\n",
       "| 2020-11-08 | 56 | netflix | IT | 2020-01-01 2020-11-30 | web | 0 |\n",
       "| 2020-11-15 | 59 | netflix | IT | 2020-01-01 2020-11-30 | web | 0 |\n",
       "| 2020-11-22 | 54 | netflix | IT | 2020-01-01 2020-11-30 | web | 0 |\n",
       "| 2020-11-29 | 63 | netflix | IT | 2020-01-01 2020-11-30 | web | 0 |\n",
       "\n",
       "\n",
       "$interest_by_country\n",
       ":   NULL\n",
       "$interest_by_region\n",
       ":   \n",
       "A data.frame: 20 × 5\n",
       "\n",
       "| location &lt;chr&gt; | hits &lt;int&gt; | keyword &lt;chr&gt; | geo &lt;chr&gt; | gprop &lt;chr&gt; |\n",
       "|---|---|---|---|---|\n",
       "| Campania                        | 100 | netflix | IT | web |\n",
       "| Lazio                           |  96 | netflix | IT | web |\n",
       "| Sicily                          |  94 | netflix | IT | web |\n",
       "| Marche                          |  93 | netflix | IT | web |\n",
       "| Umbria                          |  91 | netflix | IT | web |\n",
       "| Tuscany                         |  91 | netflix | IT | web |\n",
       "| Apulia                          |  91 | netflix | IT | web |\n",
       "| Emilia-Romagna                  |  89 | netflix | IT | web |\n",
       "| Piedmont                        |  89 | netflix | IT | web |\n",
       "| Abruzzo                         |  89 | netflix | IT | web |\n",
       "| Lombardy                        |  88 | netflix | IT | web |\n",
       "| Liguria                         |  86 | netflix | IT | web |\n",
       "| Basilicata                      |  85 | netflix | IT | web |\n",
       "| Aosta                           |  82 | netflix | IT | web |\n",
       "| Veneto                          |  82 | netflix | IT | web |\n",
       "| Molise                          |  82 | netflix | IT | web |\n",
       "| Calabria                        |  82 | netflix | IT | web |\n",
       "| Sardinia                        |  81 | netflix | IT | web |\n",
       "| Trentino-Alto Adige/South Tyrol |  79 | netflix | IT | web |\n",
       "| Friuli-Venezia Giulia           |  74 | netflix | IT | web |\n",
       "\n",
       "\n",
       "$interest_by_dma\n",
       ":   NULL\n",
       "$interest_by_city\n",
       ":   \n",
       "A data.frame: 65 × 5\n",
       "\n",
       "| location &lt;chr&gt; | hits &lt;int&gt; | keyword &lt;chr&gt; | geo &lt;chr&gt; | gprop &lt;chr&gt; |\n",
       "|---|---|---|---|---|\n",
       "| Genoa              | 100 | netflix | IT | web |\n",
       "| Pisa               |  NA | netflix | IT | web |\n",
       "| Palermo            |  99 | netflix | IT | web |\n",
       "| Livorno            |  NA | netflix | IT | web |\n",
       "| Cinisello Balsamo  |  NA | netflix | IT | web |\n",
       "| Naples             |  98 | netflix | IT | web |\n",
       "| Modena             |  97 | netflix | IT | web |\n",
       "| Ostia              |  NA | netflix | IT | web |\n",
       "| Cesena             |  NA | netflix | IT | web |\n",
       "| Turin              |  96 | netflix | IT | web |\n",
       "| Bari               |  96 | netflix | IT | web |\n",
       "| Rovereto           |  NA | netflix | IT | web |\n",
       "| Viareggio          |  NA | netflix | IT | web |\n",
       "| Taranto            |  NA | netflix | IT | web |\n",
       "| Reggio Emilia      |  94 | netflix | IT | web |\n",
       "| Parma              |  94 | netflix | IT | web |\n",
       "| Caserta            |  NA | netflix | IT | web |\n",
       "| Pavia              |  NA | netflix | IT | web |\n",
       "| Sesto San Giovanni |  NA | netflix | IT | web |\n",
       "| Ravenna            |  NA | netflix | IT | web |\n",
       "| Bologna            |  93 | netflix | IT | web |\n",
       "| Pistoia            |  NA | netflix | IT | web |\n",
       "| Lucca              |  NA | netflix | IT | web |\n",
       "| Perugia            |  NA | netflix | IT | web |\n",
       "| Sassari            |  NA | netflix | IT | web |\n",
       "| Messina            |  92 | netflix | IT | web |\n",
       "| Rome               |  92 | netflix | IT | web |\n",
       "| Monza              |  NA | netflix | IT | web |\n",
       "| Florence           |  91 | netflix | IT | web |\n",
       "| Prato              |  NA | netflix | IT | web |\n",
       "| ... | ... | ... | ... | ... |\n",
       "| Foggia          | NA | netflix | IT | web |\n",
       "| Verona          | 89 | netflix | IT | web |\n",
       "| Como            | NA | netflix | IT | web |\n",
       "| La Spezia       | NA | netflix | IT | web |\n",
       "| Pescara         | NA | netflix | IT | web |\n",
       "| Milan           | 87 | netflix | IT | web |\n",
       "| Ancona          | NA | netflix | IT | web |\n",
       "| Ferrara         | NA | netflix | IT | web |\n",
       "| Padua           | 86 | netflix | IT | web |\n",
       "| Arezzo          | NA | netflix | IT | web |\n",
       "| Latina          | NA | netflix | IT | web |\n",
       "| Pesaro          | NA | netflix | IT | web |\n",
       "| Forli           | NA | netflix | IT | web |\n",
       "| Trieste         | 83 | netflix | IT | web |\n",
       "| Catania         | 82 | netflix | IT | web |\n",
       "| Bergamo         | NA | netflix | IT | web |\n",
       "| Novara          | NA | netflix | IT | web |\n",
       "| Rimini          | NA | netflix | IT | web |\n",
       "| Terni           | NA | netflix | IT | web |\n",
       "| Cagliari        | 80 | netflix | IT | web |\n",
       "| Catanzaro       | NA | netflix | IT | web |\n",
       "| Lecce           | NA | netflix | IT | web |\n",
       "| Brescia         | 79 | netflix | IT | web |\n",
       "| Bolzano         | NA | netflix | IT | web |\n",
       "| Varese          | NA | netflix | IT | web |\n",
       "| Piacenza        | NA | netflix | IT | web |\n",
       "| Reggio Calabria | NA | netflix | IT | web |\n",
       "| Venice          | 77 | netflix | IT | web |\n",
       "| Udine           | NA | netflix | IT | web |\n",
       "| Salerno         | 70 | netflix | IT | web |\n",
       "\n",
       "\n",
       "$related_topics\n",
       ":   NULL\n",
       "$related_queries\n",
       ":   \n",
       "A data.frame: 100 × 6\n",
       "\n",
       "| subject &lt;chr&gt; | related_queries &lt;chr&gt; | value &lt;chr&gt; | geo &lt;chr&gt; | keyword &lt;chr&gt; | category &lt;int&gt; |\n",
       "|---|---|---|---|---|---|\n",
       "| 100      | top    | netflix film              | IT | netflix | 0 |\n",
       "| 75       | top    | netflix serie             | IT | netflix | 0 |\n",
       "| 40       | top    | serie tv netflix          | IT | netflix | 0 |\n",
       "| 39       | top    | serie tv                  | IT | netflix | 0 |\n",
       "| 23       | top    | film su netflix           | IT | netflix | 0 |\n",
       "| 20       | top    | netflix italia            | IT | netflix | 0 |\n",
       "| 17       | top    | netflix gratis            | IT | netflix | 0 |\n",
       "| 11       | top    | film di netflix           | IT | netflix | 0 |\n",
       "| 11       | top    | netflix film da vedere    | IT | netflix | 0 |\n",
       "| 11       | top    | film da vedere            | IT | netflix | 0 |\n",
       "| 9        | top    | serie su netflix          | IT | netflix | 0 |\n",
       "| 9        | top    | netflix abbonamento       | IT | netflix | 0 |\n",
       "| 8        | top    | film netflix 2020         | IT | netflix | 0 |\n",
       "| 8        | top    | film 2020                 | IT | netflix | 0 |\n",
       "| 8        | top    | costo netflix             | IT | netflix | 0 |\n",
       "| 8        | top    | sky netflix               | IT | netflix | 0 |\n",
       "| 8        | top    | netflix party             | IT | netflix | 0 |\n",
       "| 8        | top    | da vedere su netflix      | IT | netflix | 0 |\n",
       "| 8        | top    | netflix login             | IT | netflix | 0 |\n",
       "| 7        | top    | account netflix           | IT | netflix | 0 |\n",
       "| 7        | top    | migliori serie netflix    | IT | netflix | 0 |\n",
       "| 6        | top    | film da vedere su netflix | IT | netflix | 0 |\n",
       "| 6        | top    | serie netflix da vedere   | IT | netflix | 0 |\n",
       "| 6        | top    | netflix serie da vedere   | IT | netflix | 0 |\n",
       "| 5        | top    | netflix app               | IT | netflix | 0 |\n",
       "| Breakout | rising | il buco netflix           | IT | netflix | 0 |\n",
       "| Breakout | rising | contagion netflix         | IT | netflix | 0 |\n",
       "| Breakout | rising | vis a vis el oasis        | IT | netflix | 0 |\n",
       "| Breakout | rising | toy boy serie netflix     | IT | netflix | 0 |\n",
       "| Breakout | rising | ratched netflix           | IT | netflix | 0 |\n",
       "| ... | ... | ... | ... | ... | ... |\n",
       "| 7        | top    | migliori serie netflix                       | IT | netflix | 0 |\n",
       "| 6        | top    | film da vedere su netflix                    | IT | netflix | 0 |\n",
       "| 6        | top    | serie netflix da vedere                      | IT | netflix | 0 |\n",
       "| 6        | top    | netflix serie da vedere                      | IT | netflix | 0 |\n",
       "| 5        | top    | netflix app                                  | IT | netflix | 0 |\n",
       "| Breakout | rising | il buco netflix                              | IT | netflix | 0 |\n",
       "| Breakout | rising | contagion netflix                            | IT | netflix | 0 |\n",
       "| Breakout | rising | vis a vis el oasis                           | IT | netflix | 0 |\n",
       "| Breakout | rising | toy boy serie netflix                        | IT | netflix | 0 |\n",
       "| Breakout | rising | ratched netflix                              | IT | netflix | 0 |\n",
       "| Breakout | rising | parasite netflix                             | IT | netflix | 0 |\n",
       "| Breakout | rising | unorthodox netflix                           | IT | netflix | 0 |\n",
       "| Breakout | rising | barbari netflix                              | IT | netflix | 0 |\n",
       "| Breakout | rising | il buco                                      | IT | netflix | 0 |\n",
       "| Breakout | rising | toy boy serie netflix cast                   | IT | netflix | 0 |\n",
       "| +4,900%  | rising | film netflix 2020                            | IT | netflix | 0 |\n",
       "| +4,250%  | rising | il suo ultimo desiderio netflix              | IT | netflix | 0 |\n",
       "| +3,400%  | rising | film 2020                                    | IT | netflix | 0 |\n",
       "| +3,300%  | rising | the 100 stagione 7                           | IT | netflix | 0 |\n",
       "| +3,150%  | rising | freud netflix                                | IT | netflix | 0 |\n",
       "| +3,150%  | rising | freud                                        | IT | netflix | 0 |\n",
       "| +3,100%  | rising | a che ora esce la casa di carta 4 su netflix | IT | netflix | 0 |\n",
       "| +2,950%  | rising | non ho mai netflix                           | IT | netflix | 0 |\n",
       "| +2,300%  | rising | after 2 netflix                              | IT | netflix | 0 |\n",
       "| +1,950%  | rising | serie netflix 2020                           | IT | netflix | 0 |\n",
       "| +1,850%  | rising | serie tv netflix 2020                        | IT | netflix | 0 |\n",
       "| +1,650%  | rising | hoops netflix                                | IT | netflix | 0 |\n",
       "| +1,600%  | rising | messiah netflix                              | IT | netflix | 0 |\n",
       "| +1,600%  | rising | netflix party                                | IT | netflix | 0 |\n",
       "| +1,550%  | rising | snowpiercer                                  | IT | netflix | 0 |\n",
       "\n",
       "\n",
       "\n",
       "\n"
      ],
      "text/plain": [
       "$interest_over_time\n",
       "         date hits keyword geo                  time gprop category\n",
       "1  2020-01-05   47 netflix  IT 2020-01-01 2020-11-30   web        0\n",
       "2  2020-01-12   42 netflix  IT 2020-01-01 2020-11-30   web        0\n",
       "3  2020-01-19   42 netflix  IT 2020-01-01 2020-11-30   web        0\n",
       "4  2020-01-26   40 netflix  IT 2020-01-01 2020-11-30   web        0\n",
       "5  2020-02-02   38 netflix  IT 2020-01-01 2020-11-30   web        0\n",
       "6  2020-02-09   37 netflix  IT 2020-01-01 2020-11-30   web        0\n",
       "7  2020-02-16   36 netflix  IT 2020-01-01 2020-11-30   web        0\n",
       "8  2020-02-23   40 netflix  IT 2020-01-01 2020-11-30   web        0\n",
       "9  2020-03-01   46 netflix  IT 2020-01-01 2020-11-30   web        0\n",
       "10 2020-03-08   82 netflix  IT 2020-01-01 2020-11-30   web        0\n",
       "11 2020-03-15   91 netflix  IT 2020-01-01 2020-11-30   web        0\n",
       "12 2020-03-22   98 netflix  IT 2020-01-01 2020-11-30   web        0\n",
       "13 2020-03-29  100 netflix  IT 2020-01-01 2020-11-30   web        0\n",
       "14 2020-04-05   94 netflix  IT 2020-01-01 2020-11-30   web        0\n",
       "15 2020-04-12   92 netflix  IT 2020-01-01 2020-11-30   web        0\n",
       "16 2020-04-19   84 netflix  IT 2020-01-01 2020-11-30   web        0\n",
       "17 2020-04-26   85 netflix  IT 2020-01-01 2020-11-30   web        0\n",
       "18 2020-05-03   65 netflix  IT 2020-01-01 2020-11-30   web        0\n",
       "19 2020-05-10   59 netflix  IT 2020-01-01 2020-11-30   web        0\n",
       "20 2020-05-17   50 netflix  IT 2020-01-01 2020-11-30   web        0\n",
       "21 2020-05-24   47 netflix  IT 2020-01-01 2020-11-30   web        0\n",
       "22 2020-05-31   50 netflix  IT 2020-01-01 2020-11-30   web        0\n",
       "23 2020-06-07   51 netflix  IT 2020-01-01 2020-11-30   web        0\n",
       "24 2020-06-14   45 netflix  IT 2020-01-01 2020-11-30   web        0\n",
       "25 2020-06-21   42 netflix  IT 2020-01-01 2020-11-30   web        0\n",
       "26 2020-06-28   42 netflix  IT 2020-01-01 2020-11-30   web        0\n",
       "27 2020-07-05   40 netflix  IT 2020-01-01 2020-11-30   web        0\n",
       "28 2020-07-12   40 netflix  IT 2020-01-01 2020-11-30   web        0\n",
       "29 2020-07-19   39 netflix  IT 2020-01-01 2020-11-30   web        0\n",
       "30 2020-07-26   39 netflix  IT 2020-01-01 2020-11-30   web        0\n",
       "31 2020-08-02   40 netflix  IT 2020-01-01 2020-11-30   web        0\n",
       "32 2020-08-09   37 netflix  IT 2020-01-01 2020-11-30   web        0\n",
       "33 2020-08-16   41 netflix  IT 2020-01-01 2020-11-30   web        0\n",
       "34 2020-08-23   44 netflix  IT 2020-01-01 2020-11-30   web        0\n",
       "35 2020-08-30   47 netflix  IT 2020-01-01 2020-11-30   web        0\n",
       "36 2020-09-06   45 netflix  IT 2020-01-01 2020-11-30   web        0\n",
       "37 2020-09-13   44 netflix  IT 2020-01-01 2020-11-30   web        0\n",
       "38 2020-09-20   42 netflix  IT 2020-01-01 2020-11-30   web        0\n",
       "39 2020-09-27   41 netflix  IT 2020-01-01 2020-11-30   web        0\n",
       "40 2020-10-04   40 netflix  IT 2020-01-01 2020-11-30   web        0\n",
       "41 2020-10-11   42 netflix  IT 2020-01-01 2020-11-30   web        0\n",
       "42 2020-10-18   42 netflix  IT 2020-01-01 2020-11-30   web        0\n",
       "43 2020-10-25   52 netflix  IT 2020-01-01 2020-11-30   web        0\n",
       "44 2020-11-01   50 netflix  IT 2020-01-01 2020-11-30   web        0\n",
       "45 2020-11-08   56 netflix  IT 2020-01-01 2020-11-30   web        0\n",
       "46 2020-11-15   59 netflix  IT 2020-01-01 2020-11-30   web        0\n",
       "47 2020-11-22   54 netflix  IT 2020-01-01 2020-11-30   web        0\n",
       "48 2020-11-29   63 netflix  IT 2020-01-01 2020-11-30   web        0\n",
       "49 2020-01-05   47 netflix  IT 2020-01-01 2020-11-30   web        0\n",
       "50 2020-01-12   42 netflix  IT 2020-01-01 2020-11-30   web        0\n",
       "51 2020-01-19   42 netflix  IT 2020-01-01 2020-11-30   web        0\n",
       "52 2020-01-26   40 netflix  IT 2020-01-01 2020-11-30   web        0\n",
       "53 2020-02-02   38 netflix  IT 2020-01-01 2020-11-30   web        0\n",
       "54 2020-02-09   37 netflix  IT 2020-01-01 2020-11-30   web        0\n",
       "55 2020-02-16   36 netflix  IT 2020-01-01 2020-11-30   web        0\n",
       "56 2020-02-23   40 netflix  IT 2020-01-01 2020-11-30   web        0\n",
       "57 2020-03-01   46 netflix  IT 2020-01-01 2020-11-30   web        0\n",
       "58 2020-03-08   82 netflix  IT 2020-01-01 2020-11-30   web        0\n",
       "59 2020-03-15   91 netflix  IT 2020-01-01 2020-11-30   web        0\n",
       "60 2020-03-22   98 netflix  IT 2020-01-01 2020-11-30   web        0\n",
       "61 2020-03-29  100 netflix  IT 2020-01-01 2020-11-30   web        0\n",
       "62 2020-04-05   94 netflix  IT 2020-01-01 2020-11-30   web        0\n",
       "63 2020-04-12   92 netflix  IT 2020-01-01 2020-11-30   web        0\n",
       "64 2020-04-19   84 netflix  IT 2020-01-01 2020-11-30   web        0\n",
       "65 2020-04-26   85 netflix  IT 2020-01-01 2020-11-30   web        0\n",
       "66 2020-05-03   65 netflix  IT 2020-01-01 2020-11-30   web        0\n",
       "67 2020-05-10   59 netflix  IT 2020-01-01 2020-11-30   web        0\n",
       "68 2020-05-17   50 netflix  IT 2020-01-01 2020-11-30   web        0\n",
       "69 2020-05-24   47 netflix  IT 2020-01-01 2020-11-30   web        0\n",
       "70 2020-05-31   50 netflix  IT 2020-01-01 2020-11-30   web        0\n",
       "71 2020-06-07   51 netflix  IT 2020-01-01 2020-11-30   web        0\n",
       "72 2020-06-14   45 netflix  IT 2020-01-01 2020-11-30   web        0\n",
       "73 2020-06-21   42 netflix  IT 2020-01-01 2020-11-30   web        0\n",
       "74 2020-06-28   42 netflix  IT 2020-01-01 2020-11-30   web        0\n",
       "75 2020-07-05   40 netflix  IT 2020-01-01 2020-11-30   web        0\n",
       "76 2020-07-12   40 netflix  IT 2020-01-01 2020-11-30   web        0\n",
       "77 2020-07-19   39 netflix  IT 2020-01-01 2020-11-30   web        0\n",
       "78 2020-07-26   39 netflix  IT 2020-01-01 2020-11-30   web        0\n",
       "79 2020-08-02   40 netflix  IT 2020-01-01 2020-11-30   web        0\n",
       "80 2020-08-09   37 netflix  IT 2020-01-01 2020-11-30   web        0\n",
       "81 2020-08-16   41 netflix  IT 2020-01-01 2020-11-30   web        0\n",
       "82 2020-08-23   44 netflix  IT 2020-01-01 2020-11-30   web        0\n",
       "83 2020-08-30   47 netflix  IT 2020-01-01 2020-11-30   web        0\n",
       "84 2020-09-06   45 netflix  IT 2020-01-01 2020-11-30   web        0\n",
       "85 2020-09-13   44 netflix  IT 2020-01-01 2020-11-30   web        0\n",
       "86 2020-09-20   42 netflix  IT 2020-01-01 2020-11-30   web        0\n",
       "87 2020-09-27   41 netflix  IT 2020-01-01 2020-11-30   web        0\n",
       "88 2020-10-04   40 netflix  IT 2020-01-01 2020-11-30   web        0\n",
       "89 2020-10-11   42 netflix  IT 2020-01-01 2020-11-30   web        0\n",
       "90 2020-10-18   42 netflix  IT 2020-01-01 2020-11-30   web        0\n",
       "91 2020-10-25   52 netflix  IT 2020-01-01 2020-11-30   web        0\n",
       "92 2020-11-01   50 netflix  IT 2020-01-01 2020-11-30   web        0\n",
       "93 2020-11-08   56 netflix  IT 2020-01-01 2020-11-30   web        0\n",
       "94 2020-11-15   59 netflix  IT 2020-01-01 2020-11-30   web        0\n",
       "95 2020-11-22   54 netflix  IT 2020-01-01 2020-11-30   web        0\n",
       "96 2020-11-29   63 netflix  IT 2020-01-01 2020-11-30   web        0\n",
       "\n",
       "$interest_by_country\n",
       "NULL\n",
       "\n",
       "$interest_by_region\n",
       "                          location hits keyword geo gprop\n",
       "1                         Campania  100 netflix  IT   web\n",
       "2                            Lazio   96 netflix  IT   web\n",
       "3                           Sicily   94 netflix  IT   web\n",
       "4                           Marche   93 netflix  IT   web\n",
       "5                           Umbria   91 netflix  IT   web\n",
       "6                          Tuscany   91 netflix  IT   web\n",
       "7                           Apulia   91 netflix  IT   web\n",
       "8                   Emilia-Romagna   89 netflix  IT   web\n",
       "9                         Piedmont   89 netflix  IT   web\n",
       "10                         Abruzzo   89 netflix  IT   web\n",
       "11                        Lombardy   88 netflix  IT   web\n",
       "12                         Liguria   86 netflix  IT   web\n",
       "13                      Basilicata   85 netflix  IT   web\n",
       "14                           Aosta   82 netflix  IT   web\n",
       "15                          Veneto   82 netflix  IT   web\n",
       "16                          Molise   82 netflix  IT   web\n",
       "17                        Calabria   82 netflix  IT   web\n",
       "18                        Sardinia   81 netflix  IT   web\n",
       "19 Trentino-Alto Adige/South Tyrol   79 netflix  IT   web\n",
       "20           Friuli-Venezia Giulia   74 netflix  IT   web\n",
       "\n",
       "$interest_by_dma\n",
       "NULL\n",
       "\n",
       "$interest_by_city\n",
       "             location hits keyword geo gprop\n",
       "1               Genoa  100 netflix  IT   web\n",
       "2                Pisa   NA netflix  IT   web\n",
       "3             Palermo   99 netflix  IT   web\n",
       "4             Livorno   NA netflix  IT   web\n",
       "5   Cinisello Balsamo   NA netflix  IT   web\n",
       "6              Naples   98 netflix  IT   web\n",
       "7              Modena   97 netflix  IT   web\n",
       "8               Ostia   NA netflix  IT   web\n",
       "9              Cesena   NA netflix  IT   web\n",
       "10              Turin   96 netflix  IT   web\n",
       "11               Bari   96 netflix  IT   web\n",
       "12           Rovereto   NA netflix  IT   web\n",
       "13          Viareggio   NA netflix  IT   web\n",
       "14            Taranto   NA netflix  IT   web\n",
       "15      Reggio Emilia   94 netflix  IT   web\n",
       "16              Parma   94 netflix  IT   web\n",
       "17            Caserta   NA netflix  IT   web\n",
       "18              Pavia   NA netflix  IT   web\n",
       "19 Sesto San Giovanni   NA netflix  IT   web\n",
       "20            Ravenna   NA netflix  IT   web\n",
       "21            Bologna   93 netflix  IT   web\n",
       "22            Pistoia   NA netflix  IT   web\n",
       "23              Lucca   NA netflix  IT   web\n",
       "24            Perugia   NA netflix  IT   web\n",
       "25            Sassari   NA netflix  IT   web\n",
       "26            Messina   92 netflix  IT   web\n",
       "27               Rome   92 netflix  IT   web\n",
       "28              Monza   NA netflix  IT   web\n",
       "29           Florence   91 netflix  IT   web\n",
       "30              Prato   NA netflix  IT   web\n",
       "31      Ponte Galeria   NA netflix  IT   web\n",
       "32           Avellino   NA netflix  IT   web\n",
       "33              Siena   NA netflix  IT   web\n",
       "34             Trento   NA netflix  IT   web\n",
       "35            Vicenza   NA netflix  IT   web\n",
       "36             Foggia   NA netflix  IT   web\n",
       "37             Verona   89 netflix  IT   web\n",
       "38               Como   NA netflix  IT   web\n",
       "39          La Spezia   NA netflix  IT   web\n",
       "40            Pescara   NA netflix  IT   web\n",
       "41              Milan   87 netflix  IT   web\n",
       "42             Ancona   NA netflix  IT   web\n",
       "43            Ferrara   NA netflix  IT   web\n",
       "44              Padua   86 netflix  IT   web\n",
       "45             Arezzo   NA netflix  IT   web\n",
       "46             Latina   NA netflix  IT   web\n",
       "47             Pesaro   NA netflix  IT   web\n",
       "48              Forli   NA netflix  IT   web\n",
       "49            Trieste   83 netflix  IT   web\n",
       "50            Catania   82 netflix  IT   web\n",
       "51            Bergamo   NA netflix  IT   web\n",
       "52             Novara   NA netflix  IT   web\n",
       "53             Rimini   NA netflix  IT   web\n",
       "54              Terni   NA netflix  IT   web\n",
       "55           Cagliari   80 netflix  IT   web\n",
       "56          Catanzaro   NA netflix  IT   web\n",
       "57              Lecce   NA netflix  IT   web\n",
       "58            Brescia   79 netflix  IT   web\n",
       "59            Bolzano   NA netflix  IT   web\n",
       "60             Varese   NA netflix  IT   web\n",
       "61           Piacenza   NA netflix  IT   web\n",
       "62    Reggio Calabria   NA netflix  IT   web\n",
       "63             Venice   77 netflix  IT   web\n",
       "64              Udine   NA netflix  IT   web\n",
       "65            Salerno   70 netflix  IT   web\n",
       "\n",
       "$related_topics\n",
       "NULL\n",
       "\n",
       "$related_queries\n",
       "     subject related_queries                                        value geo\n",
       "1        100             top                                 netflix film  IT\n",
       "2         75             top                                netflix serie  IT\n",
       "3         40             top                             serie tv netflix  IT\n",
       "4         39             top                                     serie tv  IT\n",
       "5         23             top                              film su netflix  IT\n",
       "6         20             top                               netflix italia  IT\n",
       "7         17             top                               netflix gratis  IT\n",
       "8         11             top                              film di netflix  IT\n",
       "9         11             top                       netflix film da vedere  IT\n",
       "10        11             top                               film da vedere  IT\n",
       "11         9             top                             serie su netflix  IT\n",
       "12         9             top                          netflix abbonamento  IT\n",
       "13         8             top                            film netflix 2020  IT\n",
       "14         8             top                                    film 2020  IT\n",
       "15         8             top                                costo netflix  IT\n",
       "16         8             top                                  sky netflix  IT\n",
       "17         8             top                                netflix party  IT\n",
       "18         8             top                         da vedere su netflix  IT\n",
       "19         8             top                                netflix login  IT\n",
       "20         7             top                              account netflix  IT\n",
       "21         7             top                       migliori serie netflix  IT\n",
       "22         6             top                    film da vedere su netflix  IT\n",
       "23         6             top                      serie netflix da vedere  IT\n",
       "24         6             top                      netflix serie da vedere  IT\n",
       "25         5             top                                  netflix app  IT\n",
       "26  Breakout          rising                              il buco netflix  IT\n",
       "27  Breakout          rising                            contagion netflix  IT\n",
       "28  Breakout          rising                           vis a vis el oasis  IT\n",
       "29  Breakout          rising                        toy boy serie netflix  IT\n",
       "30  Breakout          rising                              ratched netflix  IT\n",
       "31  Breakout          rising                             parasite netflix  IT\n",
       "32  Breakout          rising                           unorthodox netflix  IT\n",
       "33  Breakout          rising                              barbari netflix  IT\n",
       "34  Breakout          rising                                      il buco  IT\n",
       "35  Breakout          rising                   toy boy serie netflix cast  IT\n",
       "36   +4,900%          rising                            film netflix 2020  IT\n",
       "37   +4,250%          rising              il suo ultimo desiderio netflix  IT\n",
       "38   +3,400%          rising                                    film 2020  IT\n",
       "39   +3,300%          rising                           the 100 stagione 7  IT\n",
       "40   +3,150%          rising                                freud netflix  IT\n",
       "41   +3,150%          rising                                        freud  IT\n",
       "42   +3,100%          rising a che ora esce la casa di carta 4 su netflix  IT\n",
       "43   +2,950%          rising                           non ho mai netflix  IT\n",
       "44   +2,300%          rising                              after 2 netflix  IT\n",
       "45   +1,950%          rising                           serie netflix 2020  IT\n",
       "46   +1,850%          rising                        serie tv netflix 2020  IT\n",
       "47   +1,650%          rising                                hoops netflix  IT\n",
       "48   +1,600%          rising                              messiah netflix  IT\n",
       "49   +1,600%          rising                                netflix party  IT\n",
       "50   +1,550%          rising                                  snowpiercer  IT\n",
       "51       100             top                                 netflix film  IT\n",
       "52        75             top                                netflix serie  IT\n",
       "53        40             top                             serie tv netflix  IT\n",
       "54        39             top                                     serie tv  IT\n",
       "55        23             top                              film su netflix  IT\n",
       "56        20             top                               netflix italia  IT\n",
       "57        17             top                               netflix gratis  IT\n",
       "58        11             top                              film di netflix  IT\n",
       "59        11             top                       netflix film da vedere  IT\n",
       "60        11             top                               film da vedere  IT\n",
       "61         9             top                             serie su netflix  IT\n",
       "62         9             top                          netflix abbonamento  IT\n",
       "63         8             top                            film netflix 2020  IT\n",
       "64         8             top                                    film 2020  IT\n",
       "65         8             top                                costo netflix  IT\n",
       "66         8             top                                  sky netflix  IT\n",
       "67         8             top                                netflix party  IT\n",
       "68         8             top                         da vedere su netflix  IT\n",
       "69         8             top                                netflix login  IT\n",
       "70         7             top                              account netflix  IT\n",
       "71         7             top                       migliori serie netflix  IT\n",
       "72         6             top                    film da vedere su netflix  IT\n",
       "73         6             top                      serie netflix da vedere  IT\n",
       "74         6             top                      netflix serie da vedere  IT\n",
       "75         5             top                                  netflix app  IT\n",
       "76  Breakout          rising                              il buco netflix  IT\n",
       "77  Breakout          rising                            contagion netflix  IT\n",
       "78  Breakout          rising                           vis a vis el oasis  IT\n",
       "79  Breakout          rising                        toy boy serie netflix  IT\n",
       "80  Breakout          rising                              ratched netflix  IT\n",
       "81  Breakout          rising                             parasite netflix  IT\n",
       "82  Breakout          rising                           unorthodox netflix  IT\n",
       "83  Breakout          rising                              barbari netflix  IT\n",
       "84  Breakout          rising                                      il buco  IT\n",
       "85  Breakout          rising                   toy boy serie netflix cast  IT\n",
       "86   +4,900%          rising                            film netflix 2020  IT\n",
       "87   +4,250%          rising              il suo ultimo desiderio netflix  IT\n",
       "88   +3,400%          rising                                    film 2020  IT\n",
       "89   +3,300%          rising                           the 100 stagione 7  IT\n",
       "90   +3,150%          rising                                freud netflix  IT\n",
       "91   +3,150%          rising                                        freud  IT\n",
       "92   +3,100%          rising a che ora esce la casa di carta 4 su netflix  IT\n",
       "93   +2,950%          rising                           non ho mai netflix  IT\n",
       "94   +2,300%          rising                              after 2 netflix  IT\n",
       "95   +1,950%          rising                           serie netflix 2020  IT\n",
       "96   +1,850%          rising                        serie tv netflix 2020  IT\n",
       "97   +1,650%          rising                                hoops netflix  IT\n",
       "98   +1,600%          rising                              messiah netflix  IT\n",
       "99   +1,600%          rising                                netflix party  IT\n",
       "100  +1,550%          rising                                  snowpiercer  IT\n",
       "    keyword category\n",
       "1   netflix        0\n",
       "2   netflix        0\n",
       "3   netflix        0\n",
       "4   netflix        0\n",
       "5   netflix        0\n",
       "6   netflix        0\n",
       "7   netflix        0\n",
       "8   netflix        0\n",
       "9   netflix        0\n",
       "10  netflix        0\n",
       "11  netflix        0\n",
       "12  netflix        0\n",
       "13  netflix        0\n",
       "14  netflix        0\n",
       "15  netflix        0\n",
       "16  netflix        0\n",
       "17  netflix        0\n",
       "18  netflix        0\n",
       "19  netflix        0\n",
       "20  netflix        0\n",
       "21  netflix        0\n",
       "22  netflix        0\n",
       "23  netflix        0\n",
       "24  netflix        0\n",
       "25  netflix        0\n",
       "26  netflix        0\n",
       "27  netflix        0\n",
       "28  netflix        0\n",
       "29  netflix        0\n",
       "30  netflix        0\n",
       "31  netflix        0\n",
       "32  netflix        0\n",
       "33  netflix        0\n",
       "34  netflix        0\n",
       "35  netflix        0\n",
       "36  netflix        0\n",
       "37  netflix        0\n",
       "38  netflix        0\n",
       "39  netflix        0\n",
       "40  netflix        0\n",
       "41  netflix        0\n",
       "42  netflix        0\n",
       "43  netflix        0\n",
       "44  netflix        0\n",
       "45  netflix        0\n",
       "46  netflix        0\n",
       "47  netflix        0\n",
       "48  netflix        0\n",
       "49  netflix        0\n",
       "50  netflix        0\n",
       "51  netflix        0\n",
       "52  netflix        0\n",
       "53  netflix        0\n",
       "54  netflix        0\n",
       "55  netflix        0\n",
       "56  netflix        0\n",
       "57  netflix        0\n",
       "58  netflix        0\n",
       "59  netflix        0\n",
       "60  netflix        0\n",
       "61  netflix        0\n",
       "62  netflix        0\n",
       "63  netflix        0\n",
       "64  netflix        0\n",
       "65  netflix        0\n",
       "66  netflix        0\n",
       "67  netflix        0\n",
       "68  netflix        0\n",
       "69  netflix        0\n",
       "70  netflix        0\n",
       "71  netflix        0\n",
       "72  netflix        0\n",
       "73  netflix        0\n",
       "74  netflix        0\n",
       "75  netflix        0\n",
       "76  netflix        0\n",
       "77  netflix        0\n",
       "78  netflix        0\n",
       "79  netflix        0\n",
       "80  netflix        0\n",
       "81  netflix        0\n",
       "82  netflix        0\n",
       "83  netflix        0\n",
       "84  netflix        0\n",
       "85  netflix        0\n",
       "86  netflix        0\n",
       "87  netflix        0\n",
       "88  netflix        0\n",
       "89  netflix        0\n",
       "90  netflix        0\n",
       "91  netflix        0\n",
       "92  netflix        0\n",
       "93  netflix        0\n",
       "94  netflix        0\n",
       "95  netflix        0\n",
       "96  netflix        0\n",
       "97  netflix        0\n",
       "98  netflix        0\n",
       "99  netflix        0\n",
       "100 netflix        0\n",
       "\n",
       "attr(,\"class\")\n",
       "[1] \"gtrends\" \"list\"   "
      ]
     },
     "metadata": {},
     "output_type": "display_data"
    }
   ],
   "source": [
    "res <- gtrends(c(\"netflix\"), geo = c(\"IT\", \"IT\"), time = c(\"2020-01-01 2020-11-30\"))\n",
    "res"
   ]
  },
  {
   "cell_type": "markdown",
   "metadata": {},
   "source": [
    "Here, I can visualize the type of data provided by Google Trends. In order:\n",
    "\n",
    "1) Interest over time(weekly);\n",
    "\n",
    "2) Interest by Country/Region;\n",
    "\n",
    "3) Interest by city;\n",
    "\n",
    "4) Related queries and topics and which are rising in interest\n",
    "\n",
    "Now, I focus on the first type of data that is provided, *Interest over time*.\n",
    "I start visualizing it. To do so, I test two possible commands."
   ]
  },
  {
   "cell_type": "markdown",
   "metadata": {},
   "source": [
    "Using the **gtreds** command *plot* I can visualize automatically interest over time"
   ]
  },
  {
   "cell_type": "code",
   "execution_count": 99,
   "metadata": {},
   "outputs": [
    {
     "data": {
      "image/png": "[encoded data removed]",
      "text/plain": [
       "plot without title"
      ]
     },
     "metadata": {
      "image/png": {
       "height": 420,
       "width": 420
      }
     },
     "output_type": "display_data"
    }
   ],
   "source": [
    "plot(res)"
   ]
  },
  {
   "cell_type": "markdown",
   "metadata": {},
   "source": [
    "From this plot I can see that searches for Netflix in Italy boomed in March 2020 reaching the top in April. I can visualize the same plot with *ggplot2* and customize my figure. But first I need to select the dataset I am interested in that is *interest over time*. "
   ]
  },
  {
   "cell_type": "code",
   "execution_count": 100,
   "metadata": {},
   "outputs": [],
   "source": [
    "time_trend<-res$interest_over_time %>%\n",
    "  dplyr::mutate(hits=ifelse(hits==\"<1\",0.5,as.numeric(hits)),\n",
    "                date=as.Date(date))"
   ]
  },
  {
   "cell_type": "markdown",
   "metadata": {},
   "source": [
    "Next, I plot it with *ggplot2*."
   ]
  },
  {
   "cell_type": "code",
   "execution_count": 101,
   "metadata": {},
   "outputs": [
    {
     "data": {
      "image/png": "[encoded data removed]",
      "text/plain": [
       "plot without title"
      ]
     },
     "metadata": {
      "image/png": {
       "height": 420,
       "width": 420
      }
     },
     "output_type": "display_data"
    }
   ],
   "source": [
    "plot<-ggplot(data=time_trend, aes(x=date, y=hits,group=keyword,col=keyword))+\n",
    "        geom_line()+xlab('Time')+ylab('Relative Interest')+ theme_bw()+\n",
    "        theme(legend.title = element_blank(),legend.position=\"bottom\",legend.text=element_text(size=12))+ggtitle(\"Google Search Volume\")\n",
    "     \n",
    "plot + geom_line()  + theme_classic() +  geom_vline(xintercept=as.Date(\"2020-03-09\"))"
   ]
  },
  {
   "cell_type": "markdown",
   "metadata": {},
   "source": [
    "From the graph we can observe that Netflix was high during the Christmas break to then fall and increase already a bit before the first national-lockdown measures have been implemented. During the second lockdown it started to peak again."
   ]
  },
  {
   "cell_type": "markdown",
   "metadata": {},
   "source": [
    "### What about mixing several queries together?"
   ]
  },
  {
   "cell_type": "markdown",
   "metadata": {},
   "source": [
    "We can search for several words at the same time. In this way, each word has a value that is relative to the others.\n",
    "\n",
    "First, I use some words that related to home entartainment: *netflix, fortnite, ps4, xbox*."
   ]
  },
  {
   "cell_type": "code",
   "execution_count": 102,
   "metadata": {},
   "outputs": [
    {
     "data": {
      "image/png": "[encoded data removed]",
      "text/plain": [
       "plot without title"
      ]
     },
     "metadata": {
      "image/png": {
       "height": 420,
       "width": 420
      }
     },
     "output_type": "display_data"
    }
   ],
   "source": [
    "multiple <- gtrends(c(\"netflix\",\"fortnite\",\"ps4\",\"xbox\"), geo = c(\"IT\", \"IT\"), time = c(\"2020-01-01 2020-11-30\"))\n",
    "time_trend<-multiple$interest_over_time %>%\n",
    "  dplyr::mutate(hits=ifelse(hits==\"<1\",0.5,as.numeric(hits)),\n",
    "                date=as.Date(date))\n",
    "plot<-ggplot(data=time_trend, aes(x=date, y=hits,group=keyword,col=keyword))+\n",
    "        geom_line()+xlab('Time')+ylab('Relative Interest')+ theme_bw()+\n",
    "        theme(legend.title = element_blank(),legend.position=\"bottom\",legend.text=element_text(size=12))+ggtitle(\"Google Search Volume\")\n",
    "     \n",
    "plot + geom_line()  + theme_classic() +  geom_vline(xintercept=as.Date(\"2020-03-09\"))"
   ]
  },
  {
   "cell_type": "markdown",
   "metadata": {},
   "source": [
    "Next, I explore how search for educational content changed during the COVID-19 lockdown. I use 4 words: *compiti* that refers to home school-work, *spaggiari* is the italian website for educational content, *matematica* for math and *google meet* as it was one of the most common portals for educational interaction with teachers."
   ]
  },
  {
   "cell_type": "code",
   "execution_count": 103,
   "metadata": {},
   "outputs": [
    {
     "name": "stderr",
     "output_type": "stream",
     "text": [
      "Warning message:\n",
      "\"Problem with `mutate()` input `hits`.\n",
      "\u001b[34mi\u001b[39m si è prodotto un NA per coercizione\n",
      "\u001b[34mi\u001b[39m Input `hits` is `ifelse(hits == \"<1\", 0.5, as.numeric(hits))`.\"\n",
      "Warning message in ifelse(hits == \"<1\", 0.5, as.numeric(hits)):\n",
      "\"si è prodotto un NA per coercizione\"\n"
     ]
    },
    {
     "data": {
      "image/png": "[encoded data removed]",
      "text/plain": [
       "plot without title"
      ]
     },
     "metadata": {
      "image/png": {
       "height": 420,
       "width": 420
      }
     },
     "output_type": "display_data"
    }
   ],
   "source": [
    "#options(warn=-1)\n",
    "edu <- gtrends(c(\"compiti\", \"Spaggiari\", \"matematica\", \"google meet\"), geo = c(\"IT\", \"IT\"), time = c(\"2020-01-01 2020-11-30\"))\n",
    "time_trend_edu<- edu$interest_over_time %>%\n",
    "  dplyr::mutate(hits=ifelse(hits==\"<1\",0.5,as.numeric(hits)),\n",
    "                 date=as.Date(date))\n",
    "plot<-ggplot(data=time_trend_edu, aes(x=date, y=hits,group=keyword,col=keyword))+\n",
    "        geom_line()+xlab('Time')+ylab('Relative Interest')+ theme_bw()+\n",
    "        theme(legend.title = element_blank(),legend.position=\"bottom\",legend.text=element_text(size=12))+ggtitle(\"Google Search Volume\")\n",
    "plot + geom_line()  + theme_classic() +  geom_vline(xintercept=as.Date(\"2020-03-08\"))"
   ]
  },
  {
   "cell_type": "markdown",
   "metadata": {},
   "source": [
    "So far, the analysis has been focused on aswering the first question. We have observed an increased in google searches for educational and entertainment content during the lockdown in Italy. However, the analysis was at a national level and might mask large differences between regions.  Moreover, a major limitation is that we do not know if the increase in the search for educational content is higher than the one on entartainment."
   ]
  },
  {
   "cell_type": "markdown",
   "metadata": {},
   "source": [
    "## Regional differences in google searches"
   ]
  },
  {
   "cell_type": "markdown",
   "metadata": {},
   "source": [
    "First, I want to understand how the italian regions are coded in google trends. To do so, I use the command *geo.codes*."
   ]
  },
  {
   "cell_type": "code",
   "execution_count": 104,
   "metadata": {},
   "outputs": [
    {
     "data": {
      "text/html": [
       "<style>\n",
       ".list-inline {list-style: none; margin:0; padding: 0}\n",
       ".list-inline>li {display: inline-block}\n",
       ".list-inline>li:not(:last-child)::after {content: \"\\00b7\"; padding: 0 .5ex}\n",
       "</style>\n",
       "<ol class=list-inline><li>'IT-21'</li><li>'IT-23'</li><li>'IT-25'</li><li>'IT-32'</li><li>'IT-34'</li><li>'IT-36'</li></ol>\n"
      ],
      "text/latex": [
       "\\begin{enumerate*}\n",
       "\\item 'IT-21'\n",
       "\\item 'IT-23'\n",
       "\\item 'IT-25'\n",
       "\\item 'IT-32'\n",
       "\\item 'IT-34'\n",
       "\\item 'IT-36'\n",
       "\\end{enumerate*}\n"
      ],
      "text/markdown": [
       "1. 'IT-21'\n",
       "2. 'IT-23'\n",
       "3. 'IT-25'\n",
       "4. 'IT-32'\n",
       "5. 'IT-34'\n",
       "6. 'IT-36'\n",
       "\n",
       "\n"
      ],
      "text/plain": [
       "[1] \"IT-21\" \"IT-23\" \"IT-25\" \"IT-32\" \"IT-34\" \"IT-36\""
      ]
     },
     "metadata": {},
     "output_type": "display_data"
    }
   ],
   "source": [
    "geo.codes = sort(unique(countries[substr(countries$sub_code, 1, 2) == \"IT\", ]$sub_code))\n",
    "head(geo.codes)"
   ]
  },
  {
   "cell_type": "markdown",
   "metadata": {},
   "source": [
    "The coding of regions is non intuitive. But I can extrapolate some of these numbers on google trends to understand to which regions they refer to. Here, I pick: 34.Veneto , 25.Lombardia, 72.Campania , 82.Sicilia , 52.Toscana."
   ]
  },
  {
   "cell_type": "code",
   "execution_count": 105,
   "metadata": {},
   "outputs": [
    {
     "data": {
      "image/png": "[encoded data removed]",
      "text/plain": [
       "plot without title"
      ]
     },
     "metadata": {
      "image/png": {
       "height": 420,
       "width": 420
      }
     },
     "output_type": "display_data"
    }
   ],
   "source": [
    "regions <- gtrends(\"netflix\", c(\"IT-34\", \"IT-25\", \"IT-72\", \"IT-82\", \"IT-52\" ), time = c(\"2020-01-01 2020-10-13\")) \n",
    "plot(regions)"
   ]
  },
  {
   "cell_type": "markdown",
   "metadata": {},
   "source": [
    "I observe that there are some differences between these regions. Now, I want to get the actual values and plot them but focusing only on the period during the lockdown."
   ]
  },
  {
   "cell_type": "code",
   "execution_count": 106,
   "metadata": {},
   "outputs": [
    {
     "data": {
      "text/html": [
       "<table>\n",
       "<caption>A tibble: 6 × 6</caption>\n",
       "<thead>\n",
       "\t<tr><th scope=col>location</th><th scope=col>hits</th><th scope=col>keyword</th><th scope=col>geo</th><th scope=col>gprop</th><th scope=col>region</th></tr>\n",
       "\t<tr><th scope=col>&lt;chr&gt;</th><th scope=col>&lt;int&gt;</th><th scope=col>&lt;chr&gt;</th><th scope=col>&lt;chr&gt;</th><th scope=col>&lt;chr&gt;</th><th scope=col>&lt;chr&gt;</th></tr>\n",
       "</thead>\n",
       "<tbody>\n",
       "\t<tr><td>Campania  </td><td>100</td><td>netflix</td><td>IT</td><td>web</td><td>campania  </td></tr>\n",
       "\t<tr><td>Sicily    </td><td> 93</td><td>netflix</td><td>IT</td><td>web</td><td>sicily    </td></tr>\n",
       "\t<tr><td>Apulia    </td><td> 92</td><td>netflix</td><td>IT</td><td>web</td><td>apulia    </td></tr>\n",
       "\t<tr><td>Marche    </td><td> 86</td><td>netflix</td><td>IT</td><td>web</td><td>marche    </td></tr>\n",
       "\t<tr><td>Abruzzo   </td><td> 85</td><td>netflix</td><td>IT</td><td>web</td><td>abruzzo   </td></tr>\n",
       "\t<tr><td>Basilicata</td><td> 83</td><td>netflix</td><td>IT</td><td>web</td><td>basilicata</td></tr>\n",
       "</tbody>\n",
       "</table>\n"
      ],
      "text/latex": [
       "A tibble: 6 × 6\n",
       "\\begin{tabular}{llllll}\n",
       " location & hits & keyword & geo & gprop & region\\\\\n",
       " <chr> & <int> & <chr> & <chr> & <chr> & <chr>\\\\\n",
       "\\hline\n",
       "\t Campania   & 100 & netflix & IT & web & campania  \\\\\n",
       "\t Sicily     &  93 & netflix & IT & web & sicily    \\\\\n",
       "\t Apulia     &  92 & netflix & IT & web & apulia    \\\\\n",
       "\t Marche     &  86 & netflix & IT & web & marche    \\\\\n",
       "\t Abruzzo    &  85 & netflix & IT & web & abruzzo   \\\\\n",
       "\t Basilicata &  83 & netflix & IT & web & basilicata\\\\\n",
       "\\end{tabular}\n"
      ],
      "text/markdown": [
       "\n",
       "A tibble: 6 × 6\n",
       "\n",
       "| location &lt;chr&gt; | hits &lt;int&gt; | keyword &lt;chr&gt; | geo &lt;chr&gt; | gprop &lt;chr&gt; | region &lt;chr&gt; |\n",
       "|---|---|---|---|---|---|\n",
       "| Campania   | 100 | netflix | IT | web | campania   |\n",
       "| Sicily     |  93 | netflix | IT | web | sicily     |\n",
       "| Apulia     |  92 | netflix | IT | web | apulia     |\n",
       "| Marche     |  86 | netflix | IT | web | marche     |\n",
       "| Abruzzo    |  85 | netflix | IT | web | abruzzo    |\n",
       "| Basilicata |  83 | netflix | IT | web | basilicata |\n",
       "\n"
      ],
      "text/plain": [
       "  location   hits keyword geo gprop region    \n",
       "1 Campania   100  netflix IT  web   campania  \n",
       "2 Sicily      93  netflix IT  web   sicily    \n",
       "3 Apulia      92  netflix IT  web   apulia    \n",
       "4 Marche      86  netflix IT  web   marche    \n",
       "5 Abruzzo     85  netflix IT  web   abruzzo   \n",
       "6 Basilicata  83  netflix IT  web   basilicata"
      ]
     },
     "metadata": {},
     "output_type": "display_data"
    }
   ],
   "source": [
    "net <- gtrends(c(\"netflix\"), geo = c(\"IT\", \"IT\"), time = c(\"2020-03-08 2020-05-04\"))\n",
    "netregion <- as_tibble(net$interest_by_region)\n",
    "netregion <- netregion %>% \n",
    "  dplyr::mutate(region = stringr::str_to_lower(location))\n",
    "head(netregion)"
   ]
  },
  {
   "cell_type": "code",
   "execution_count": 107,
   "metadata": {},
   "outputs": [
    {
     "data": {
      "image/png": "[encoded data removed]",
      "text/plain": [
       "plot without title"
      ]
     },
     "metadata": {
      "image/png": {
       "height": 420,
       "width": 420
      }
     },
     "output_type": "display_data"
    }
   ],
   "source": [
    "p<-ggplot(data=netregion, aes(x=region, y=hits)) +\n",
    "  geom_bar(stat=\"identity\")\n",
    "p"
   ]
  },
  {
   "cell_type": "markdown",
   "metadata": {},
   "source": [
    "Answering question 2, there are differences between regions but these do not seem to be vary large using the word *Netflix*. \n",
    "As an exercise you can do the same analysis using different words."
   ]
  },
  {
   "cell_type": "markdown",
   "metadata": {},
   "source": [
    "## Google searches and GDP"
   ]
  },
  {
   "cell_type": "markdown",
   "metadata": {},
   "source": [
    "Now, I want to answer question 3 looking at the correlation between searches at the regional level and how these correlate with per capita GDP. I scrape the data on GDP per capita from Wikipedia: https://en.wikipedia.org/wiki/List_of_Italian_regions_by_GRP_per_capita. Next, I expose the procedure.\n",
    "\n",
    "Credits to the tutorial found here: https://www.displayr.com/simple-web-scraping-in-displayr-using-r/"
   ]
  },
  {
   "cell_type": "code",
   "execution_count": 108,
   "metadata": {},
   "outputs": [
    {
     "data": {
      "text/html": [
       "<table>\n",
       "<caption>A data.frame: 6 × 3</caption>\n",
       "<thead>\n",
       "\t<tr><th></th><th scope=col>x</th><th scope=col>location</th><th scope=col>log_gdp</th></tr>\n",
       "\t<tr><th></th><th scope=col>&lt;dbl&gt;</th><th scope=col>&lt;chr&gt;</th><th scope=col>&lt;dbl&gt;</th></tr>\n",
       "</thead>\n",
       "<tbody>\n",
       "\t<tr><th scope=row>1</th><td>42300</td><td>South Tyrol   </td><td>10.65254</td></tr>\n",
       "\t<tr><th scope=row>2</th><td>38000</td><td>Lombardy      </td><td>10.54534</td></tr>\n",
       "\t<tr><th scope=row>3</th><td>36100</td><td>Trentino      </td><td>10.49405</td></tr>\n",
       "\t<tr><th scope=row>4</th><td>35300</td><td>Emilia-Romagna</td><td>10.47164</td></tr>\n",
       "\t<tr><th scope=row>5</th><td>35200</td><td>Aosta         </td><td>10.46880</td></tr>\n",
       "\t<tr><th scope=row>6</th><td>33100</td><td>Veneto        </td><td>10.40729</td></tr>\n",
       "</tbody>\n",
       "</table>\n"
      ],
      "text/latex": [
       "A data.frame: 6 × 3\n",
       "\\begin{tabular}{r|lll}\n",
       "  & x & location & log\\_gdp\\\\\n",
       "  & <dbl> & <chr> & <dbl>\\\\\n",
       "\\hline\n",
       "\t1 & 42300 & South Tyrol    & 10.65254\\\\\n",
       "\t2 & 38000 & Lombardy       & 10.54534\\\\\n",
       "\t3 & 36100 & Trentino       & 10.49405\\\\\n",
       "\t4 & 35300 & Emilia-Romagna & 10.47164\\\\\n",
       "\t5 & 35200 & Aosta          & 10.46880\\\\\n",
       "\t6 & 33100 & Veneto         & 10.40729\\\\\n",
       "\\end{tabular}\n"
      ],
      "text/markdown": [
       "\n",
       "A data.frame: 6 × 3\n",
       "\n",
       "| <!--/--> | x &lt;dbl&gt; | location &lt;chr&gt; | log_gdp &lt;dbl&gt; |\n",
       "|---|---|---|---|\n",
       "| 1 | 42300 | South Tyrol    | 10.65254 |\n",
       "| 2 | 38000 | Lombardy       | 10.54534 |\n",
       "| 3 | 36100 | Trentino       | 10.49405 |\n",
       "| 4 | 35300 | Emilia-Romagna | 10.47164 |\n",
       "| 5 | 35200 | Aosta          | 10.46880 |\n",
       "| 6 | 33100 | Veneto         | 10.40729 |\n",
       "\n"
      ],
      "text/plain": [
       "  x     location       log_gdp \n",
       "1 42300 South Tyrol    10.65254\n",
       "2 38000 Lombardy       10.54534\n",
       "3 36100 Trentino       10.49405\n",
       "4 35300 Emilia-Romagna 10.47164\n",
       "5 35200 Aosta          10.46880\n",
       "6 33100 Veneto         10.40729"
      ]
     },
     "metadata": {},
     "output_type": "display_data"
    }
   ],
   "source": [
    "#install.packages(\"rvest\")\n",
    "# I load the library rvest for webscraping\n",
    "library(rvest)\n",
    " \n",
    "# Reading in the webpage\n",
    "page = read_html(\"https://en.wikipedia.org/wiki/List_of_Italian_regions_by_GRP_per_capita\")\n",
    " \n",
    "# Obtain the piece of the web that corresponds to the \"wikitable\" node\n",
    "my.table = html_node(page, \".wikitable\")\n",
    " \n",
    "# Convert the html table element into a data frame\n",
    "my.table = html_table(my.table, fill = TRUE)\n",
    " \n",
    "# Extracting the columns from the table and turning into a named vector\n",
    "x = my.table[,3]\n",
    "names(x) = my.table[,1]\n",
    "\n",
    "\n",
    "# Excluding non-states and averages from the table\n",
    "x = x[!as.character(my.table[,1]) %in%  c(\"Italy\")]\n",
    "names(x)[names(x) == \"Aosta Valley\"] = \"Aosta\"\n",
    "\n",
    "# Outputting as a dataframe\n",
    "gdp <- as.data.frame(x)\n",
    "\n",
    "# I create a column for the regional name and a log variable for GDP.\n",
    "gdp$location <- rownames(gdp)\n",
    "gdp$x <- as.numeric(gsub(\",\",\"\",gdp$x))\n",
    "# I have the gdp for Trentino and South tyrol separated so I add a new row with the mean value\n",
    "gdp<-gdp %>% add_row (location=\"Trentino-Alto Adige/South Tyrol\",x=39200)\n",
    "gdp <-gdp %>% \n",
    "  mutate(log_gdp = log(x))\n",
    "head(gdp)"
   ]
  },
  {
   "cell_type": "code",
   "execution_count": 109,
   "metadata": {},
   "outputs": [
    {
     "data": {
      "text/html": [
       "<table>\n",
       "<caption>A data.frame: 20 × 8</caption>\n",
       "<thead>\n",
       "\t<tr><th scope=col>location</th><th scope=col>hits</th><th scope=col>keyword</th><th scope=col>geo</th><th scope=col>gprop</th><th scope=col>region</th><th scope=col>x</th><th scope=col>log_gdp</th></tr>\n",
       "\t<tr><th scope=col>&lt;chr&gt;</th><th scope=col>&lt;int&gt;</th><th scope=col>&lt;chr&gt;</th><th scope=col>&lt;chr&gt;</th><th scope=col>&lt;chr&gt;</th><th scope=col>&lt;chr&gt;</th><th scope=col>&lt;dbl&gt;</th><th scope=col>&lt;dbl&gt;</th></tr>\n",
       "</thead>\n",
       "<tbody>\n",
       "\t<tr><td>Abruzzo                        </td><td> 85</td><td>netflix</td><td>IT</td><td>web</td><td>abruzzo                        </td><td>24700</td><td>10.114559</td></tr>\n",
       "\t<tr><td>Aosta                          </td><td> 68</td><td>netflix</td><td>IT</td><td>web</td><td>aosta                          </td><td>35200</td><td>10.468801</td></tr>\n",
       "\t<tr><td>Apulia                         </td><td> 92</td><td>netflix</td><td>IT</td><td>web</td><td>apulia                         </td><td>18400</td><td> 9.820106</td></tr>\n",
       "\t<tr><td>Basilicata                     </td><td> 83</td><td>netflix</td><td>IT</td><td>web</td><td>basilicata                     </td><td>21100</td><td> 9.957028</td></tr>\n",
       "\t<tr><td>Calabria                       </td><td> 77</td><td>netflix</td><td>IT</td><td>web</td><td>calabria                       </td><td>17200</td><td> 9.752665</td></tr>\n",
       "\t<tr><td>Campania                       </td><td>100</td><td>netflix</td><td>IT</td><td>web</td><td>campania                       </td><td>18200</td><td> 9.809177</td></tr>\n",
       "\t<tr><td>Emilia-Romagna                 </td><td> 78</td><td>netflix</td><td>IT</td><td>web</td><td>emilia-romagna                 </td><td>35300</td><td>10.471638</td></tr>\n",
       "\t<tr><td>Friuli-Venezia Giulia          </td><td> 65</td><td>netflix</td><td>IT</td><td>web</td><td>friuli-venezia giulia          </td><td>30900</td><td>10.338511</td></tr>\n",
       "\t<tr><td>Lazio                          </td><td> 83</td><td>netflix</td><td>IT</td><td>web</td><td>lazio                          </td><td>32700</td><td>10.395130</td></tr>\n",
       "\t<tr><td>Liguria                        </td><td> 75</td><td>netflix</td><td>IT</td><td>web</td><td>liguria                        </td><td>31600</td><td>10.360912</td></tr>\n",
       "\t<tr><td>Lombardy                       </td><td> 76</td><td>netflix</td><td>IT</td><td>web</td><td>lombardy                       </td><td>38000</td><td>10.545341</td></tr>\n",
       "\t<tr><td>Marche                         </td><td> 86</td><td>netflix</td><td>IT</td><td>web</td><td>marche                         </td><td>26800</td><td>10.196157</td></tr>\n",
       "\t<tr><td>Molise                         </td><td> 82</td><td>netflix</td><td>IT</td><td>web</td><td>molise                         </td><td>19800</td><td> 9.893437</td></tr>\n",
       "\t<tr><td>Piedmont                       </td><td> 78</td><td>netflix</td><td>IT</td><td>web</td><td>piedmont                       </td><td>30300</td><td>10.318903</td></tr>\n",
       "\t<tr><td>Sardinia                       </td><td> 73</td><td>netflix</td><td>IT</td><td>web</td><td>sardinia                       </td><td>20600</td><td> 9.933046</td></tr>\n",
       "\t<tr><td>Sicily                         </td><td> 93</td><td>netflix</td><td>IT</td><td>web</td><td>sicily                         </td><td>17500</td><td> 9.769956</td></tr>\n",
       "\t<tr><td>Trentino-Alto Adige/South Tyrol</td><td> 68</td><td>netflix</td><td>IT</td><td>web</td><td>trentino-alto adige/south tyrol</td><td>39200</td><td>10.576432</td></tr>\n",
       "\t<tr><td>Tuscany                        </td><td> 82</td><td>netflix</td><td>IT</td><td>web</td><td>tuscany                        </td><td>30400</td><td>10.322198</td></tr>\n",
       "\t<tr><td>Umbria                         </td><td> 80</td><td>netflix</td><td>IT</td><td>web</td><td>umbria                         </td><td>24500</td><td>10.106428</td></tr>\n",
       "\t<tr><td>Veneto                         </td><td> 70</td><td>netflix</td><td>IT</td><td>web</td><td>veneto                         </td><td>33100</td><td>10.407289</td></tr>\n",
       "</tbody>\n",
       "</table>\n"
      ],
      "text/latex": [
       "A data.frame: 20 × 8\n",
       "\\begin{tabular}{llllllll}\n",
       " location & hits & keyword & geo & gprop & region & x & log\\_gdp\\\\\n",
       " <chr> & <int> & <chr> & <chr> & <chr> & <chr> & <dbl> & <dbl>\\\\\n",
       "\\hline\n",
       "\t Abruzzo                         &  85 & netflix & IT & web & abruzzo                         & 24700 & 10.114559\\\\\n",
       "\t Aosta                           &  68 & netflix & IT & web & aosta                           & 35200 & 10.468801\\\\\n",
       "\t Apulia                          &  92 & netflix & IT & web & apulia                          & 18400 &  9.820106\\\\\n",
       "\t Basilicata                      &  83 & netflix & IT & web & basilicata                      & 21100 &  9.957028\\\\\n",
       "\t Calabria                        &  77 & netflix & IT & web & calabria                        & 17200 &  9.752665\\\\\n",
       "\t Campania                        & 100 & netflix & IT & web & campania                        & 18200 &  9.809177\\\\\n",
       "\t Emilia-Romagna                  &  78 & netflix & IT & web & emilia-romagna                  & 35300 & 10.471638\\\\\n",
       "\t Friuli-Venezia Giulia           &  65 & netflix & IT & web & friuli-venezia giulia           & 30900 & 10.338511\\\\\n",
       "\t Lazio                           &  83 & netflix & IT & web & lazio                           & 32700 & 10.395130\\\\\n",
       "\t Liguria                         &  75 & netflix & IT & web & liguria                         & 31600 & 10.360912\\\\\n",
       "\t Lombardy                        &  76 & netflix & IT & web & lombardy                        & 38000 & 10.545341\\\\\n",
       "\t Marche                          &  86 & netflix & IT & web & marche                          & 26800 & 10.196157\\\\\n",
       "\t Molise                          &  82 & netflix & IT & web & molise                          & 19800 &  9.893437\\\\\n",
       "\t Piedmont                        &  78 & netflix & IT & web & piedmont                        & 30300 & 10.318903\\\\\n",
       "\t Sardinia                        &  73 & netflix & IT & web & sardinia                        & 20600 &  9.933046\\\\\n",
       "\t Sicily                          &  93 & netflix & IT & web & sicily                          & 17500 &  9.769956\\\\\n",
       "\t Trentino-Alto Adige/South Tyrol &  68 & netflix & IT & web & trentino-alto adige/south tyrol & 39200 & 10.576432\\\\\n",
       "\t Tuscany                         &  82 & netflix & IT & web & tuscany                         & 30400 & 10.322198\\\\\n",
       "\t Umbria                          &  80 & netflix & IT & web & umbria                          & 24500 & 10.106428\\\\\n",
       "\t Veneto                          &  70 & netflix & IT & web & veneto                          & 33100 & 10.407289\\\\\n",
       "\\end{tabular}\n"
      ],
      "text/markdown": [
       "\n",
       "A data.frame: 20 × 8\n",
       "\n",
       "| location &lt;chr&gt; | hits &lt;int&gt; | keyword &lt;chr&gt; | geo &lt;chr&gt; | gprop &lt;chr&gt; | region &lt;chr&gt; | x &lt;dbl&gt; | log_gdp &lt;dbl&gt; |\n",
       "|---|---|---|---|---|---|---|---|\n",
       "| Abruzzo                         |  85 | netflix | IT | web | abruzzo                         | 24700 | 10.114559 |\n",
       "| Aosta                           |  68 | netflix | IT | web | aosta                           | 35200 | 10.468801 |\n",
       "| Apulia                          |  92 | netflix | IT | web | apulia                          | 18400 |  9.820106 |\n",
       "| Basilicata                      |  83 | netflix | IT | web | basilicata                      | 21100 |  9.957028 |\n",
       "| Calabria                        |  77 | netflix | IT | web | calabria                        | 17200 |  9.752665 |\n",
       "| Campania                        | 100 | netflix | IT | web | campania                        | 18200 |  9.809177 |\n",
       "| Emilia-Romagna                  |  78 | netflix | IT | web | emilia-romagna                  | 35300 | 10.471638 |\n",
       "| Friuli-Venezia Giulia           |  65 | netflix | IT | web | friuli-venezia giulia           | 30900 | 10.338511 |\n",
       "| Lazio                           |  83 | netflix | IT | web | lazio                           | 32700 | 10.395130 |\n",
       "| Liguria                         |  75 | netflix | IT | web | liguria                         | 31600 | 10.360912 |\n",
       "| Lombardy                        |  76 | netflix | IT | web | lombardy                        | 38000 | 10.545341 |\n",
       "| Marche                          |  86 | netflix | IT | web | marche                          | 26800 | 10.196157 |\n",
       "| Molise                          |  82 | netflix | IT | web | molise                          | 19800 |  9.893437 |\n",
       "| Piedmont                        |  78 | netflix | IT | web | piedmont                        | 30300 | 10.318903 |\n",
       "| Sardinia                        |  73 | netflix | IT | web | sardinia                        | 20600 |  9.933046 |\n",
       "| Sicily                          |  93 | netflix | IT | web | sicily                          | 17500 |  9.769956 |\n",
       "| Trentino-Alto Adige/South Tyrol |  68 | netflix | IT | web | trentino-alto adige/south tyrol | 39200 | 10.576432 |\n",
       "| Tuscany                         |  82 | netflix | IT | web | tuscany                         | 30400 | 10.322198 |\n",
       "| Umbria                          |  80 | netflix | IT | web | umbria                          | 24500 | 10.106428 |\n",
       "| Veneto                          |  70 | netflix | IT | web | veneto                          | 33100 | 10.407289 |\n",
       "\n"
      ],
      "text/plain": [
       "   location                        hits keyword geo gprop\n",
       "1  Abruzzo                          85  netflix IT  web  \n",
       "2  Aosta                            68  netflix IT  web  \n",
       "3  Apulia                           92  netflix IT  web  \n",
       "4  Basilicata                       83  netflix IT  web  \n",
       "5  Calabria                         77  netflix IT  web  \n",
       "6  Campania                        100  netflix IT  web  \n",
       "7  Emilia-Romagna                   78  netflix IT  web  \n",
       "8  Friuli-Venezia Giulia            65  netflix IT  web  \n",
       "9  Lazio                            83  netflix IT  web  \n",
       "10 Liguria                          75  netflix IT  web  \n",
       "11 Lombardy                         76  netflix IT  web  \n",
       "12 Marche                           86  netflix IT  web  \n",
       "13 Molise                           82  netflix IT  web  \n",
       "14 Piedmont                         78  netflix IT  web  \n",
       "15 Sardinia                         73  netflix IT  web  \n",
       "16 Sicily                           93  netflix IT  web  \n",
       "17 Trentino-Alto Adige/South Tyrol  68  netflix IT  web  \n",
       "18 Tuscany                          82  netflix IT  web  \n",
       "19 Umbria                           80  netflix IT  web  \n",
       "20 Veneto                           70  netflix IT  web  \n",
       "   region                          x     log_gdp  \n",
       "1  abruzzo                         24700 10.114559\n",
       "2  aosta                           35200 10.468801\n",
       "3  apulia                          18400  9.820106\n",
       "4  basilicata                      21100  9.957028\n",
       "5  calabria                        17200  9.752665\n",
       "6  campania                        18200  9.809177\n",
       "7  emilia-romagna                  35300 10.471638\n",
       "8  friuli-venezia giulia           30900 10.338511\n",
       "9  lazio                           32700 10.395130\n",
       "10 liguria                         31600 10.360912\n",
       "11 lombardy                        38000 10.545341\n",
       "12 marche                          26800 10.196157\n",
       "13 molise                          19800  9.893437\n",
       "14 piedmont                        30300 10.318903\n",
       "15 sardinia                        20600  9.933046\n",
       "16 sicily                          17500  9.769956\n",
       "17 trentino-alto adige/south tyrol 39200 10.576432\n",
       "18 tuscany                         30400 10.322198\n",
       "19 umbria                          24500 10.106428\n",
       "20 veneto                          33100 10.407289"
      ]
     },
     "metadata": {},
     "output_type": "display_data"
    }
   ],
   "source": [
    "# Now I merge the datasets\n",
    "merged<-merge(netregion,gdp, by='location')\n",
    "merged"
   ]
  },
  {
   "cell_type": "markdown",
   "metadata": {},
   "source": [
    "I have my merged dataset ready. Now, I can run the correlation and visualize it."
   ]
  },
  {
   "cell_type": "code",
   "execution_count": 110,
   "metadata": {},
   "outputs": [
    {
     "data": {
      "image/png": "[encoded data removed]",
      "text/plain": [
       "Plot with title \"Netflix and GDP per capita\""
      ]
     },
     "metadata": {
      "image/png": {
       "height": 420,
       "width": 420
      }
     },
     "output_type": "display_data"
    }
   ],
   "source": [
    "x <- merged$log_gdp\n",
    "y <- merged$hits\n",
    "# Plot with main and axis titles\n",
    "# Add regression line\n",
    "plot(x, y, main = \"Netflix and GDP per capita\",\n",
    "     xlab = \"log GDP\", ylab = \"Searches\",\n",
    "     pch = 19, frame = FALSE)\n",
    "abline(lm(y ~ x), col = \"blue\")"
   ]
  },
  {
   "cell_type": "markdown",
   "metadata": {},
   "source": [
    "I can observe a negative correlation. Apparently, in richer regions searched less *Netflix*. What about educational content?"
   ]
  },
  {
   "cell_type": "code",
   "execution_count": 111,
   "metadata": {},
   "outputs": [
    {
     "data": {
      "text/html": [
       "<table>\n",
       "<caption>A tibble: 6 × 6</caption>\n",
       "<thead>\n",
       "\t<tr><th scope=col>location</th><th scope=col>hits</th><th scope=col>keyword</th><th scope=col>geo</th><th scope=col>gprop</th><th scope=col>region</th></tr>\n",
       "\t<tr><th scope=col>&lt;chr&gt;</th><th scope=col>&lt;int&gt;</th><th scope=col>&lt;chr&gt;</th><th scope=col>&lt;chr&gt;</th><th scope=col>&lt;chr&gt;</th><th scope=col>&lt;chr&gt;</th></tr>\n",
       "</thead>\n",
       "<tbody>\n",
       "\t<tr><td>Aosta                </td><td>100</td><td>spaggiari</td><td>IT</td><td>web</td><td>aosta                </td></tr>\n",
       "\t<tr><td>Liguria              </td><td> 69</td><td>spaggiari</td><td>IT</td><td>web</td><td>liguria              </td></tr>\n",
       "\t<tr><td>Umbria               </td><td> 60</td><td>spaggiari</td><td>IT</td><td>web</td><td>umbria               </td></tr>\n",
       "\t<tr><td>Friuli-Venezia Giulia</td><td> 52</td><td>spaggiari</td><td>IT</td><td>web</td><td>friuli-venezia giulia</td></tr>\n",
       "\t<tr><td>Veneto               </td><td> 45</td><td>spaggiari</td><td>IT</td><td>web</td><td>veneto               </td></tr>\n",
       "\t<tr><td>Abruzzo              </td><td> 42</td><td>spaggiari</td><td>IT</td><td>web</td><td>abruzzo              </td></tr>\n",
       "</tbody>\n",
       "</table>\n"
      ],
      "text/latex": [
       "A tibble: 6 × 6\n",
       "\\begin{tabular}{llllll}\n",
       " location & hits & keyword & geo & gprop & region\\\\\n",
       " <chr> & <int> & <chr> & <chr> & <chr> & <chr>\\\\\n",
       "\\hline\n",
       "\t Aosta                 & 100 & spaggiari & IT & web & aosta                \\\\\n",
       "\t Liguria               &  69 & spaggiari & IT & web & liguria              \\\\\n",
       "\t Umbria                &  60 & spaggiari & IT & web & umbria               \\\\\n",
       "\t Friuli-Venezia Giulia &  52 & spaggiari & IT & web & friuli-venezia giulia\\\\\n",
       "\t Veneto                &  45 & spaggiari & IT & web & veneto               \\\\\n",
       "\t Abruzzo               &  42 & spaggiari & IT & web & abruzzo              \\\\\n",
       "\\end{tabular}\n"
      ],
      "text/markdown": [
       "\n",
       "A tibble: 6 × 6\n",
       "\n",
       "| location &lt;chr&gt; | hits &lt;int&gt; | keyword &lt;chr&gt; | geo &lt;chr&gt; | gprop &lt;chr&gt; | region &lt;chr&gt; |\n",
       "|---|---|---|---|---|---|\n",
       "| Aosta                 | 100 | spaggiari | IT | web | aosta                 |\n",
       "| Liguria               |  69 | spaggiari | IT | web | liguria               |\n",
       "| Umbria                |  60 | spaggiari | IT | web | umbria                |\n",
       "| Friuli-Venezia Giulia |  52 | spaggiari | IT | web | friuli-venezia giulia |\n",
       "| Veneto                |  45 | spaggiari | IT | web | veneto                |\n",
       "| Abruzzo               |  42 | spaggiari | IT | web | abruzzo               |\n",
       "\n"
      ],
      "text/plain": [
       "  location              hits keyword   geo gprop region               \n",
       "1 Aosta                 100  spaggiari IT  web   aosta                \n",
       "2 Liguria                69  spaggiari IT  web   liguria              \n",
       "3 Umbria                 60  spaggiari IT  web   umbria               \n",
       "4 Friuli-Venezia Giulia  52  spaggiari IT  web   friuli-venezia giulia\n",
       "5 Veneto                 45  spaggiari IT  web   veneto               \n",
       "6 Abruzzo                42  spaggiari IT  web   abruzzo              "
      ]
     },
     "metadata": {},
     "output_type": "display_data"
    }
   ],
   "source": [
    "spagr <- gtrends(c(\"spaggiari\"), geo = c(\"IT\", \"IT\"), time = c(\"2020-03-08 2020-05-04\"))\n",
    "spagr <- as_tibble(spagr$interest_by_region)\n",
    "spagr <- spagr %>% \n",
    "  dplyr::mutate(region = stringr::str_to_lower(location))\n",
    "head(spagr)"
   ]
  },
  {
   "cell_type": "code",
   "execution_count": 112,
   "metadata": {},
   "outputs": [
    {
     "data": {
      "text/html": [
       "<table>\n",
       "<caption>A data.frame: 6 × 8</caption>\n",
       "<thead>\n",
       "\t<tr><th></th><th scope=col>location</th><th scope=col>hits</th><th scope=col>keyword</th><th scope=col>geo</th><th scope=col>gprop</th><th scope=col>region</th><th scope=col>x</th><th scope=col>log_gdp</th></tr>\n",
       "\t<tr><th></th><th scope=col>&lt;chr&gt;</th><th scope=col>&lt;int&gt;</th><th scope=col>&lt;chr&gt;</th><th scope=col>&lt;chr&gt;</th><th scope=col>&lt;chr&gt;</th><th scope=col>&lt;chr&gt;</th><th scope=col>&lt;dbl&gt;</th><th scope=col>&lt;dbl&gt;</th></tr>\n",
       "</thead>\n",
       "<tbody>\n",
       "\t<tr><th scope=row>1</th><td>Abruzzo   </td><td> 42</td><td>spaggiari</td><td>IT</td><td>web</td><td>abruzzo   </td><td>24700</td><td>10.114559</td></tr>\n",
       "\t<tr><th scope=row>2</th><td>Aosta     </td><td>100</td><td>spaggiari</td><td>IT</td><td>web</td><td>aosta     </td><td>35200</td><td>10.468801</td></tr>\n",
       "\t<tr><th scope=row>3</th><td>Apulia    </td><td> 25</td><td>spaggiari</td><td>IT</td><td>web</td><td>apulia    </td><td>18400</td><td> 9.820106</td></tr>\n",
       "\t<tr><th scope=row>4</th><td>Basilicata</td><td> 24</td><td>spaggiari</td><td>IT</td><td>web</td><td>basilicata</td><td>21100</td><td> 9.957028</td></tr>\n",
       "\t<tr><th scope=row>5</th><td>Calabria  </td><td> 20</td><td>spaggiari</td><td>IT</td><td>web</td><td>calabria  </td><td>17200</td><td> 9.752665</td></tr>\n",
       "\t<tr><th scope=row>6</th><td>Campania  </td><td> 41</td><td>spaggiari</td><td>IT</td><td>web</td><td>campania  </td><td>18200</td><td> 9.809177</td></tr>\n",
       "</tbody>\n",
       "</table>\n"
      ],
      "text/latex": [
       "A data.frame: 6 × 8\n",
       "\\begin{tabular}{r|llllllll}\n",
       "  & location & hits & keyword & geo & gprop & region & x & log\\_gdp\\\\\n",
       "  & <chr> & <int> & <chr> & <chr> & <chr> & <chr> & <dbl> & <dbl>\\\\\n",
       "\\hline\n",
       "\t1 & Abruzzo    &  42 & spaggiari & IT & web & abruzzo    & 24700 & 10.114559\\\\\n",
       "\t2 & Aosta      & 100 & spaggiari & IT & web & aosta      & 35200 & 10.468801\\\\\n",
       "\t3 & Apulia     &  25 & spaggiari & IT & web & apulia     & 18400 &  9.820106\\\\\n",
       "\t4 & Basilicata &  24 & spaggiari & IT & web & basilicata & 21100 &  9.957028\\\\\n",
       "\t5 & Calabria   &  20 & spaggiari & IT & web & calabria   & 17200 &  9.752665\\\\\n",
       "\t6 & Campania   &  41 & spaggiari & IT & web & campania   & 18200 &  9.809177\\\\\n",
       "\\end{tabular}\n"
      ],
      "text/markdown": [
       "\n",
       "A data.frame: 6 × 8\n",
       "\n",
       "| <!--/--> | location &lt;chr&gt; | hits &lt;int&gt; | keyword &lt;chr&gt; | geo &lt;chr&gt; | gprop &lt;chr&gt; | region &lt;chr&gt; | x &lt;dbl&gt; | log_gdp &lt;dbl&gt; |\n",
       "|---|---|---|---|---|---|---|---|---|\n",
       "| 1 | Abruzzo    |  42 | spaggiari | IT | web | abruzzo    | 24700 | 10.114559 |\n",
       "| 2 | Aosta      | 100 | spaggiari | IT | web | aosta      | 35200 | 10.468801 |\n",
       "| 3 | Apulia     |  25 | spaggiari | IT | web | apulia     | 18400 |  9.820106 |\n",
       "| 4 | Basilicata |  24 | spaggiari | IT | web | basilicata | 21100 |  9.957028 |\n",
       "| 5 | Calabria   |  20 | spaggiari | IT | web | calabria   | 17200 |  9.752665 |\n",
       "| 6 | Campania   |  41 | spaggiari | IT | web | campania   | 18200 |  9.809177 |\n",
       "\n"
      ],
      "text/plain": [
       "  location   hits keyword   geo gprop region     x     log_gdp  \n",
       "1 Abruzzo     42  spaggiari IT  web   abruzzo    24700 10.114559\n",
       "2 Aosta      100  spaggiari IT  web   aosta      35200 10.468801\n",
       "3 Apulia      25  spaggiari IT  web   apulia     18400  9.820106\n",
       "4 Basilicata  24  spaggiari IT  web   basilicata 21100  9.957028\n",
       "5 Calabria    20  spaggiari IT  web   calabria   17200  9.752665\n",
       "6 Campania    41  spaggiari IT  web   campania   18200  9.809177"
      ]
     },
     "metadata": {},
     "output_type": "display_data"
    }
   ],
   "source": [
    "merged1<-merge(spagr,gdp, by='location')\n",
    "head(merged1)"
   ]
  },
  {
   "cell_type": "code",
   "execution_count": 113,
   "metadata": {},
   "outputs": [
    {
     "data": {
      "text/plain": [
       "NULL"
      ]
     },
     "metadata": {},
     "output_type": "display_data"
    },
    {
     "data": {
      "image/png": "[encoded data removed]",
      "text/plain": [
       "Plot with title \"Spaggiari and GDP per capita\""
      ]
     },
     "metadata": {
      "image/png": {
       "height": 420,
       "width": 420
      }
     },
     "output_type": "display_data"
    }
   ],
   "source": [
    "x <- merged1$log_gdp\n",
    "y <- merged1$hits\n",
    "# Plot with main and axis titles\n",
    "# Add regression line\n",
    "plot(x, y, main = \"Spaggiari and GDP per capita\",\n",
    "     xlab = \"log GDP\", ylab = \"Searches\",\n",
    "     pch = 19, frame = FALSE)\n",
    "abline(lm(y ~ x), col = \"blue\") +\n",
    "theme_tufte()\n"
   ]
  },
  {
   "cell_type": "markdown",
   "metadata": {},
   "source": [
    "In richer regions individuals searched more for *spaggiari*, the educational platform. The analysis suggest that in richer areas individuals searched less entertainment and more educational content. \n",
    "However, can we believe this? Mantra: *Correlation is not causation*.\n",
    "\n",
    "Let's do some robustness checks!"
   ]
  },
  {
   "cell_type": "markdown",
   "metadata": {},
   "source": [
    "## Robustness checks"
   ]
  },
  {
   "cell_type": "markdown",
   "metadata": {},
   "source": [
    "1. Placebo test\n",
    "\n",
    "2. Tests to check change over time\n",
    "\n",
    "3. Use other sources of information"
   ]
  },
  {
   "cell_type": "markdown",
   "metadata": {},
   "source": [
    "### Placebo test"
   ]
  },
  {
   "cell_type": "markdown",
   "metadata": {},
   "source": [
    "A placebo test permits to check if there is no effect when there should not be one. For example, income should not have an effect on how individuals searched for the word *Coronavirus* during the lockdown."
   ]
  },
  {
   "cell_type": "code",
   "execution_count": 114,
   "metadata": {},
   "outputs": [
    {
     "data": {
      "text/plain": [
       "NULL"
      ]
     },
     "metadata": {},
     "output_type": "display_data"
    },
    {
     "data": {
      "image/png": "[encoded data removed]",
      "text/plain": [
       "Plot with title \"Coronaviru searches and GDP per capita\""
      ]
     },
     "metadata": {
      "image/png": {
       "height": 420,
       "width": 420
      }
     },
     "output_type": "display_data"
    }
   ],
   "source": [
    "coro <- gtrends(c(\"coronavirus\"), geo = c(\"IT\", \"IT\"), time = c(\"2020-03-08 2020-05-04\"))\n",
    "coro <- as_tibble(coro$interest_by_region)\n",
    "coro <- coro %>% \n",
    "  dplyr::mutate(region = stringr::str_to_lower(location))\n",
    "merged2<-merge(coro,gdp, by='location')\n",
    "x <- merged2$log_gdp\n",
    "y <- merged2$hits\n",
    "# Plot with main and axis titles\n",
    "# Add regression line\n",
    "plot(x, y, main = \"Coronaviru searches and GDP per capita\",\n",
    "     xlab = \"log GDP\", ylab = \"Searches\",\n",
    "     pch = 19, frame = FALSE)\n",
    "abline(lm(y ~ x), col = \"blue\") +\n",
    "theme_tufte()"
   ]
  },
  {
   "cell_type": "markdown",
   "metadata": {},
   "source": [
    "### Smoothing to better capture changes in time "
   ]
  },
  {
   "cell_type": "markdown",
   "metadata": {},
   "source": [
    "Seasonality and other time trends might be present in the dataset we use. Smoothing helps to better visualize meaningful changes in time."
   ]
  },
  {
   "cell_type": "code",
   "execution_count": 115,
   "metadata": {},
   "outputs": [
    {
     "name": "stderr",
     "output_type": "stream",
     "text": [
      "`geom_smooth()` using formula 'y ~ x'\n",
      "\n"
     ]
    },
    {
     "data": {
      "image/png": "[encoded data removed]",
      "text/plain": [
       "plot without title"
      ]
     },
     "metadata": {
      "image/png": {
       "height": 420,
       "width": 420
      }
     },
     "output_type": "display_data"
    }
   ],
   "source": [
    "#2020\n",
    "edu <- gtrends(c(\"netflix\"), geo = c(\"IT\", \"IT\"), time = c(\"2020-01-01 2020-11-30\"))\n",
    "time_trend_edu<- edu$interest_over_time %>%\n",
    "  dplyr::mutate(hits=ifelse(hits==\"<1\",0.5,as.numeric(hits)),\n",
    "                 date=as.Date(date))\n",
    "\n",
    "plot_smooth_40<-ggplot(time_trend_edu, aes(x=date, y=hits, colour=keyword)) +\n",
    "    geom_smooth(method=\"loess\",span=0.4, se=FALSE) +\n",
    "  labs(title=\"Compiti 2010 - 2020\") + xlab('Time')+ylab('Relative Interest')+ \n",
    "   theme_tufte() + theme(legend.title = element_blank(),legend.position=\"bottom\",\n",
    "        legend.text=element_text(size=12)) +ggtitle(\"Compiti 2010 - 2020\")\n",
    "\n",
    "plot_smooth_40"
   ]
  },
  {
   "cell_type": "markdown",
   "metadata": {},
   "source": [
    "Other useful techniques are GAM and captioning algorithms. Time series analysis such as ARIMA models can be useful as well if interested in time varying factors related to google trend."
   ]
  },
  {
   "cell_type": "markdown",
   "metadata": {},
   "source": [
    "### Benchmark to other words"
   ]
  },
  {
   "cell_type": "markdown",
   "metadata": {},
   "source": [
    "Benchmarking permits to comprehend how a word gains salience compared to other words. To choose the right words for benchmarking is not easy. One word that generally serves well the purpose is *software*. Here, I try it out with the words *studiare*, *compiti*, *fortnite*."
   ]
  },
  {
   "cell_type": "code",
   "execution_count": 116,
   "metadata": {},
   "outputs": [
    {
     "name": "stderr",
     "output_type": "stream",
     "text": [
      "`geom_smooth()` using formula 'y ~ x'\n",
      "\n"
     ]
    },
    {
     "data": {
      "image/png": "[encoded data removed]",
      "text/plain": [
       "plot without title"
      ]
     },
     "metadata": {
      "image/png": {
       "height": 420,
       "width": 420
      }
     },
     "output_type": "display_data"
    }
   ],
   "source": [
    "edu <- gtrends(c('compiti',\"software\",'studiare','fortnite'), geo = c(\"IT\", \"IT\"), time = c(\"2020-01-01 2020-11-30\"))\n",
    "time_trend_edu<- edu$interest_over_time %>%\n",
    "  dplyr::mutate(hits=ifelse(hits==\"<1\",0.5,as.numeric(hits)),\n",
    "                 date=as.Date(date))\n",
    "\n",
    "plot_smooth_40<-ggplot(time_trend_edu, aes(x=date, y=hits, colour=keyword)) +\n",
    "    geom_smooth(method=\"loess\",span=0.4, se=FALSE) +\n",
    "  labs(title=\"\") + xlab('Time')+ylab('Relative Interest')+ \n",
    "   theme_tufte()\n",
    "\n",
    "plot_smooth_40"
   ]
  },
  {
   "cell_type": "markdown",
   "metadata": {},
   "source": [
    "We can observe that compared to *Fortnite* the words *Studiare* and *compiti* did not increase much. Moreover, *software* seems to be a good word to benchmark queries."
   ]
  },
  {
   "cell_type": "markdown",
   "metadata": {},
   "source": [
    "### Check several words"
   ]
  },
  {
   "cell_type": "markdown",
   "metadata": {},
   "source": [
    "Cherrypicking of words should be avoided. Several words should be searched for. To do so a fast way to proceed would is shown in the following code.\n",
    "Here, a more extensive explanation: https://www.rubenvezzoli.online/bulk-download-data-google-trends-r/"
   ]
  },
  {
   "cell_type": "code",
   "execution_count": 117,
   "metadata": {},
   "outputs": [],
   "source": [
    "#installed.packages(\"readr\",\"purrr\") \n",
    "library(readr) \n",
    "library(purrr) \n",
    " \n",
    "# Load your keywords list (.csv file) \n",
    "kwlist <- readLines(\"parole.csv\")\n",
    " \n",
    "# The function wrap all the arguments of the gtrendR::trends function and return only the interest_over_time (you can change that)\n",
    "googleTrendsData <- function (keywords) { \n",
    "  \n",
    "  # Set the geographic region, time span, Google product,... \n",
    "  country <- c('IT') \n",
    "  time <- (\"2020-01-01 2020-11-27\") \n",
    "  \n",
    "  \n",
    "  trends <- gtrends(keywords, \n",
    "                   geo = country,\n",
    "                   time = time ) \n",
    "  \n",
    "  results <- trends$interest_over_time \n",
    "  } \n",
    " \n",
    "# googleTrendsData function is executed over the kwlist\n",
    "output <- map_dfr(.x = kwlist,\n",
    "                  .f = googleTrendsData ) \n",
    " \n",
    "# Download the dataframe \"output\" as a .csv file \n",
    "write.csv(output, \"download.csv\")\n"
   ]
  },
  {
   "cell_type": "code",
   "execution_count": 118,
   "metadata": {},
   "outputs": [
    {
     "data": {
      "text/html": [
       "<table>\n",
       "<caption>A data.frame: 6 × 8</caption>\n",
       "<thead>\n",
       "\t<tr><th></th><th scope=col>X</th><th scope=col>date</th><th scope=col>hits</th><th scope=col>keyword</th><th scope=col>geo</th><th scope=col>time</th><th scope=col>gprop</th><th scope=col>category</th></tr>\n",
       "\t<tr><th></th><th scope=col>&lt;int&gt;</th><th scope=col>&lt;chr&gt;</th><th scope=col>&lt;int&gt;</th><th scope=col>&lt;chr&gt;</th><th scope=col>&lt;chr&gt;</th><th scope=col>&lt;chr&gt;</th><th scope=col>&lt;chr&gt;</th><th scope=col>&lt;int&gt;</th></tr>\n",
       "</thead>\n",
       "<tbody>\n",
       "\t<tr><th scope=row>1</th><td>1</td><td>2020-01-05</td><td>71</td><td>matematica</td><td>IT</td><td>2020-01-01 2020-11-27</td><td>web</td><td>0</td></tr>\n",
       "\t<tr><th scope=row>2</th><td>2</td><td>2020-01-12</td><td>78</td><td>matematica</td><td>IT</td><td>2020-01-01 2020-11-27</td><td>web</td><td>0</td></tr>\n",
       "\t<tr><th scope=row>3</th><td>3</td><td>2020-01-19</td><td>78</td><td>matematica</td><td>IT</td><td>2020-01-01 2020-11-27</td><td>web</td><td>0</td></tr>\n",
       "\t<tr><th scope=row>4</th><td>4</td><td>2020-01-26</td><td>72</td><td>matematica</td><td>IT</td><td>2020-01-01 2020-11-27</td><td>web</td><td>0</td></tr>\n",
       "\t<tr><th scope=row>5</th><td>5</td><td>2020-02-02</td><td>75</td><td>matematica</td><td>IT</td><td>2020-01-01 2020-11-27</td><td>web</td><td>0</td></tr>\n",
       "\t<tr><th scope=row>6</th><td>6</td><td>2020-02-09</td><td>80</td><td>matematica</td><td>IT</td><td>2020-01-01 2020-11-27</td><td>web</td><td>0</td></tr>\n",
       "</tbody>\n",
       "</table>\n"
      ],
      "text/latex": [
       "A data.frame: 6 × 8\n",
       "\\begin{tabular}{r|llllllll}\n",
       "  & X & date & hits & keyword & geo & time & gprop & category\\\\\n",
       "  & <int> & <chr> & <int> & <chr> & <chr> & <chr> & <chr> & <int>\\\\\n",
       "\\hline\n",
       "\t1 & 1 & 2020-01-05 & 71 & matematica & IT & 2020-01-01 2020-11-27 & web & 0\\\\\n",
       "\t2 & 2 & 2020-01-12 & 78 & matematica & IT & 2020-01-01 2020-11-27 & web & 0\\\\\n",
       "\t3 & 3 & 2020-01-19 & 78 & matematica & IT & 2020-01-01 2020-11-27 & web & 0\\\\\n",
       "\t4 & 4 & 2020-01-26 & 72 & matematica & IT & 2020-01-01 2020-11-27 & web & 0\\\\\n",
       "\t5 & 5 & 2020-02-02 & 75 & matematica & IT & 2020-01-01 2020-11-27 & web & 0\\\\\n",
       "\t6 & 6 & 2020-02-09 & 80 & matematica & IT & 2020-01-01 2020-11-27 & web & 0\\\\\n",
       "\\end{tabular}\n"
      ],
      "text/markdown": [
       "\n",
       "A data.frame: 6 × 8\n",
       "\n",
       "| <!--/--> | X &lt;int&gt; | date &lt;chr&gt; | hits &lt;int&gt; | keyword &lt;chr&gt; | geo &lt;chr&gt; | time &lt;chr&gt; | gprop &lt;chr&gt; | category &lt;int&gt; |\n",
       "|---|---|---|---|---|---|---|---|---|\n",
       "| 1 | 1 | 2020-01-05 | 71 | matematica | IT | 2020-01-01 2020-11-27 | web | 0 |\n",
       "| 2 | 2 | 2020-01-12 | 78 | matematica | IT | 2020-01-01 2020-11-27 | web | 0 |\n",
       "| 3 | 3 | 2020-01-19 | 78 | matematica | IT | 2020-01-01 2020-11-27 | web | 0 |\n",
       "| 4 | 4 | 2020-01-26 | 72 | matematica | IT | 2020-01-01 2020-11-27 | web | 0 |\n",
       "| 5 | 5 | 2020-02-02 | 75 | matematica | IT | 2020-01-01 2020-11-27 | web | 0 |\n",
       "| 6 | 6 | 2020-02-09 | 80 | matematica | IT | 2020-01-01 2020-11-27 | web | 0 |\n",
       "\n"
      ],
      "text/plain": [
       "  X date       hits keyword    geo time                  gprop category\n",
       "1 1 2020-01-05 71   matematica IT  2020-01-01 2020-11-27 web   0       \n",
       "2 2 2020-01-12 78   matematica IT  2020-01-01 2020-11-27 web   0       \n",
       "3 3 2020-01-19 78   matematica IT  2020-01-01 2020-11-27 web   0       \n",
       "4 4 2020-01-26 72   matematica IT  2020-01-01 2020-11-27 web   0       \n",
       "5 5 2020-02-02 75   matematica IT  2020-01-01 2020-11-27 web   0       \n",
       "6 6 2020-02-09 80   matematica IT  2020-01-01 2020-11-27 web   0       "
      ]
     },
     "metadata": {},
     "output_type": "display_data"
    }
   ],
   "source": [
    "gtrends <- read.csv(\"download.csv\")\n",
    "head(gtrends)"
   ]
  },
  {
   "cell_type": "markdown",
   "metadata": {},
   "source": [
    "### Use other sources of data to validate findings"
   ]
  },
  {
   "cell_type": "markdown",
   "metadata": {},
   "source": [
    "Some examples are: \n",
    "\n",
    "- Survey data\n",
    "\n",
    "- Videogames\n",
    "\n",
    "- LexisNexis\n",
    "\n",
    "- Twitter\n",
    "\n",
    "- Reddit\n",
    "\n",
    "- Facebook: using facebook marketing API "
   ]
  },
  {
   "cell_type": "markdown",
   "metadata": {},
   "source": [
    "### An example with Facebook marketing API"
   ]
  },
  {
   "cell_type": "markdown",
   "metadata": {},
   "source": [
    "Here a great tutorial on R on how to retrieve data from Facebook. https://github.com/SofiaG1l/Using_Facebook_API"
   ]
  },
  {
   "cell_type": "markdown",
   "metadata": {},
   "source": [
    "I gathered data on the Facebook and Instagram audience that likes Netflix and Fortnite aged 13 to 19. I got the total population of individuals aged 13 to 19 as provided by Facebook and calculated the ratio(populationsize/audience that is interested in Netflix). Below the dataset gathered."
   ]
  },
  {
   "cell_type": "code",
   "execution_count": 119,
   "metadata": {},
   "outputs": [
    {
     "data": {
      "text/html": [
       "<table>\n",
       "<caption>A data.frame: 6 × 3</caption>\n",
       "<thead>\n",
       "\t<tr><th></th><th scope=col>X</th><th scope=col>fortnite</th><th scope=col>netflix</th></tr>\n",
       "\t<tr><th></th><th scope=col>&lt;chr&gt;</th><th scope=col>&lt;dbl&gt;</th><th scope=col>&lt;dbl&gt;</th></tr>\n",
       "</thead>\n",
       "<tbody>\n",
       "\t<tr><th scope=row>1</th><td>Abruzzo </td><td>0.2600000</td><td>0.3800000</td></tr>\n",
       "\t<tr><th scope=row>2</th><td>Aosta   </td><td>0.3090909</td><td>0.3818182</td></tr>\n",
       "\t<tr><th scope=row>3</th><td>Veneto  </td><td>0.2708333</td><td>0.3750000</td></tr>\n",
       "\t<tr><th scope=row>4</th><td>Lombardy</td><td>0.2549020</td><td>0.3529412</td></tr>\n",
       "\t<tr><th scope=row>5</th><td>Liguria </td><td>0.2597403</td><td>0.3766234</td></tr>\n",
       "\t<tr><th scope=row>6</th><td>Sardinia</td><td>0.3166667</td><td>0.4166667</td></tr>\n",
       "</tbody>\n",
       "</table>\n"
      ],
      "text/latex": [
       "A data.frame: 6 × 3\n",
       "\\begin{tabular}{r|lll}\n",
       "  & X & fortnite & netflix\\\\\n",
       "  & <chr> & <dbl> & <dbl>\\\\\n",
       "\\hline\n",
       "\t1 & Abruzzo  & 0.2600000 & 0.3800000\\\\\n",
       "\t2 & Aosta    & 0.3090909 & 0.3818182\\\\\n",
       "\t3 & Veneto   & 0.2708333 & 0.3750000\\\\\n",
       "\t4 & Lombardy & 0.2549020 & 0.3529412\\\\\n",
       "\t5 & Liguria  & 0.2597403 & 0.3766234\\\\\n",
       "\t6 & Sardinia & 0.3166667 & 0.4166667\\\\\n",
       "\\end{tabular}\n"
      ],
      "text/markdown": [
       "\n",
       "A data.frame: 6 × 3\n",
       "\n",
       "| <!--/--> | X &lt;chr&gt; | fortnite &lt;dbl&gt; | netflix &lt;dbl&gt; |\n",
       "|---|---|---|---|\n",
       "| 1 | Abruzzo  | 0.2600000 | 0.3800000 |\n",
       "| 2 | Aosta    | 0.3090909 | 0.3818182 |\n",
       "| 3 | Veneto   | 0.2708333 | 0.3750000 |\n",
       "| 4 | Lombardy | 0.2549020 | 0.3529412 |\n",
       "| 5 | Liguria  | 0.2597403 | 0.3766234 |\n",
       "| 6 | Sardinia | 0.3166667 | 0.4166667 |\n",
       "\n"
      ],
      "text/plain": [
       "  X        fortnite  netflix  \n",
       "1 Abruzzo  0.2600000 0.3800000\n",
       "2 Aosta    0.3090909 0.3818182\n",
       "3 Veneto   0.2708333 0.3750000\n",
       "4 Lombardy 0.2549020 0.3529412\n",
       "5 Liguria  0.2597403 0.3766234\n",
       "6 Sardinia 0.3166667 0.4166667"
      ]
     },
     "metadata": {},
     "output_type": "display_data"
    }
   ],
   "source": [
    "fb= read.csv(\"fb_regions.csv\")\n",
    "head(fb)"
   ]
  },
  {
   "cell_type": "code",
   "execution_count": 120,
   "metadata": {},
   "outputs": [],
   "source": [
    "names(fb)[names(fb) == 'X'] <- 'location'"
   ]
  },
  {
   "cell_type": "code",
   "execution_count": 121,
   "metadata": {},
   "outputs": [
    {
     "data": {
      "text/html": [
       "<table>\n",
       "<caption>A data.frame: 6 × 10</caption>\n",
       "<thead>\n",
       "\t<tr><th></th><th scope=col>location</th><th scope=col>hits</th><th scope=col>keyword</th><th scope=col>geo</th><th scope=col>gprop</th><th scope=col>region</th><th scope=col>x</th><th scope=col>log_gdp</th><th scope=col>fortnite</th><th scope=col>netflix</th></tr>\n",
       "\t<tr><th></th><th scope=col>&lt;chr&gt;</th><th scope=col>&lt;int&gt;</th><th scope=col>&lt;chr&gt;</th><th scope=col>&lt;chr&gt;</th><th scope=col>&lt;chr&gt;</th><th scope=col>&lt;chr&gt;</th><th scope=col>&lt;dbl&gt;</th><th scope=col>&lt;dbl&gt;</th><th scope=col>&lt;dbl&gt;</th><th scope=col>&lt;dbl&gt;</th></tr>\n",
       "</thead>\n",
       "<tbody>\n",
       "\t<tr><th scope=row>1</th><td>Abruzzo       </td><td> 85</td><td>netflix</td><td>IT</td><td>web</td><td>abruzzo       </td><td>24700</td><td>10.114559</td><td>0.2600000</td><td>0.3800000</td></tr>\n",
       "\t<tr><th scope=row>2</th><td>Aosta         </td><td> 68</td><td>netflix</td><td>IT</td><td>web</td><td>aosta         </td><td>35200</td><td>10.468801</td><td>0.3090909</td><td>0.3818182</td></tr>\n",
       "\t<tr><th scope=row>3</th><td>Basilicata    </td><td> 83</td><td>netflix</td><td>IT</td><td>web</td><td>basilicata    </td><td>21100</td><td> 9.957028</td><td>0.2727273</td><td>0.4272727</td></tr>\n",
       "\t<tr><th scope=row>4</th><td>Calabria      </td><td> 77</td><td>netflix</td><td>IT</td><td>web</td><td>calabria      </td><td>17200</td><td> 9.752665</td><td>0.2463768</td><td>0.3768116</td></tr>\n",
       "\t<tr><th scope=row>5</th><td>Campania      </td><td>100</td><td>netflix</td><td>IT</td><td>web</td><td>campania      </td><td>18200</td><td> 9.809177</td><td>0.1961538</td><td>0.3038462</td></tr>\n",
       "\t<tr><th scope=row>6</th><td>Emilia-Romagna</td><td> 78</td><td>netflix</td><td>IT</td><td>web</td><td>emilia-romagna</td><td>35300</td><td>10.471638</td><td>0.2409091</td><td>0.3409091</td></tr>\n",
       "</tbody>\n",
       "</table>\n"
      ],
      "text/latex": [
       "A data.frame: 6 × 10\n",
       "\\begin{tabular}{r|llllllllll}\n",
       "  & location & hits & keyword & geo & gprop & region & x & log\\_gdp & fortnite & netflix\\\\\n",
       "  & <chr> & <int> & <chr> & <chr> & <chr> & <chr> & <dbl> & <dbl> & <dbl> & <dbl>\\\\\n",
       "\\hline\n",
       "\t1 & Abruzzo        &  85 & netflix & IT & web & abruzzo        & 24700 & 10.114559 & 0.2600000 & 0.3800000\\\\\n",
       "\t2 & Aosta          &  68 & netflix & IT & web & aosta          & 35200 & 10.468801 & 0.3090909 & 0.3818182\\\\\n",
       "\t3 & Basilicata     &  83 & netflix & IT & web & basilicata     & 21100 &  9.957028 & 0.2727273 & 0.4272727\\\\\n",
       "\t4 & Calabria       &  77 & netflix & IT & web & calabria       & 17200 &  9.752665 & 0.2463768 & 0.3768116\\\\\n",
       "\t5 & Campania       & 100 & netflix & IT & web & campania       & 18200 &  9.809177 & 0.1961538 & 0.3038462\\\\\n",
       "\t6 & Emilia-Romagna &  78 & netflix & IT & web & emilia-romagna & 35300 & 10.471638 & 0.2409091 & 0.3409091\\\\\n",
       "\\end{tabular}\n"
      ],
      "text/markdown": [
       "\n",
       "A data.frame: 6 × 10\n",
       "\n",
       "| <!--/--> | location &lt;chr&gt; | hits &lt;int&gt; | keyword &lt;chr&gt; | geo &lt;chr&gt; | gprop &lt;chr&gt; | region &lt;chr&gt; | x &lt;dbl&gt; | log_gdp &lt;dbl&gt; | fortnite &lt;dbl&gt; | netflix &lt;dbl&gt; |\n",
       "|---|---|---|---|---|---|---|---|---|---|---|\n",
       "| 1 | Abruzzo        |  85 | netflix | IT | web | abruzzo        | 24700 | 10.114559 | 0.2600000 | 0.3800000 |\n",
       "| 2 | Aosta          |  68 | netflix | IT | web | aosta          | 35200 | 10.468801 | 0.3090909 | 0.3818182 |\n",
       "| 3 | Basilicata     |  83 | netflix | IT | web | basilicata     | 21100 |  9.957028 | 0.2727273 | 0.4272727 |\n",
       "| 4 | Calabria       |  77 | netflix | IT | web | calabria       | 17200 |  9.752665 | 0.2463768 | 0.3768116 |\n",
       "| 5 | Campania       | 100 | netflix | IT | web | campania       | 18200 |  9.809177 | 0.1961538 | 0.3038462 |\n",
       "| 6 | Emilia-Romagna |  78 | netflix | IT | web | emilia-romagna | 35300 | 10.471638 | 0.2409091 | 0.3409091 |\n",
       "\n"
      ],
      "text/plain": [
       "  location       hits keyword geo gprop region         x     log_gdp  \n",
       "1 Abruzzo         85  netflix IT  web   abruzzo        24700 10.114559\n",
       "2 Aosta           68  netflix IT  web   aosta          35200 10.468801\n",
       "3 Basilicata      83  netflix IT  web   basilicata     21100  9.957028\n",
       "4 Calabria        77  netflix IT  web   calabria       17200  9.752665\n",
       "5 Campania       100  netflix IT  web   campania       18200  9.809177\n",
       "6 Emilia-Romagna  78  netflix IT  web   emilia-romagna 35300 10.471638\n",
       "  fortnite  netflix  \n",
       "1 0.2600000 0.3800000\n",
       "2 0.3090909 0.3818182\n",
       "3 0.2727273 0.4272727\n",
       "4 0.2463768 0.3768116\n",
       "5 0.1961538 0.3038462\n",
       "6 0.2409091 0.3409091"
      ]
     },
     "metadata": {},
     "output_type": "display_data"
    }
   ],
   "source": [
    "mergedfb<-merge(merged,fb, by='location')\n",
    "head(mergedfb)"
   ]
  },
  {
   "cell_type": "code",
   "execution_count": 122,
   "metadata": {},
   "outputs": [
    {
     "data": {
      "text/plain": [
       "NULL"
      ]
     },
     "metadata": {},
     "output_type": "display_data"
    },
    {
     "data": {
      "image/png": "[encoded data removed]",
      "text/plain": [
       "Plot with title \"Netflix Audience and GDP per capita\""
      ]
     },
     "metadata": {
      "image/png": {
       "height": 420,
       "width": 420
      }
     },
     "output_type": "display_data"
    }
   ],
   "source": [
    "x <- mergedfb$log_gdp\n",
    "y <- mergedfb$netflix\n",
    "# Plot with main and axis titles\n",
    "# Add regression line\n",
    "plot(x, y, main = \"Netflix Audience and GDP per capita\",\n",
    "     xlab = \"log GDP\", ylab = \"Ratio Population/Audience\",\n",
    "     pch = 19, frame = FALSE)\n",
    "abline(lm(y ~ x), col = \"blue\") +\n",
    "theme_tufte()"
   ]
  },
  {
   "cell_type": "markdown",
   "metadata": {},
   "source": [
    "Also using Facebook data individuals in provinces with higher income seem less interested in Netflix. But how do Google searches compare with the audience given by Facebook?"
   ]
  },
  {
   "cell_type": "code",
   "execution_count": 123,
   "metadata": {},
   "outputs": [
    {
     "data": {
      "text/plain": [
       "NULL"
      ]
     },
     "metadata": {},
     "output_type": "display_data"
    },
    {
     "data": {
      "image/png": "[encoded data removed]",
      "text/plain": [
       "Plot with title \"Netflix audience on Facebook and Google searches\""
      ]
     },
     "metadata": {
      "image/png": {
       "height": 420,
       "width": 420
      }
     },
     "output_type": "display_data"
    }
   ],
   "source": [
    "x <- mergedfb$hits\n",
    "y <- mergedfb$netflix\n",
    "# Plot with main and axis titles\n",
    "# Add regression line\n",
    "plot(x, y, main = \"Netflix audience on Facebook and Google searches\",\n",
    "     xlab = \"Searches\", ylab = \"Ratio Population/Audience\",\n",
    "     pch = 19, frame = FALSE)\n",
    "abline(lm(y ~ x), col = \"blue\") +\n",
    "theme_tufte()"
   ]
  },
  {
   "cell_type": "markdown",
   "metadata": {},
   "source": [
    "However, the two measures do not match and futher checks should be made as using a benchmarked measure of searches. Moreover, the Facebook data has been collected in November and not during the first lockdown."
   ]
  },
  {
   "cell_type": "markdown",
   "metadata": {},
   "source": [
    "That's all ! Thanks for your attention!"
   ]
  },
  {
   "cell_type": "markdown",
   "metadata": {},
   "source": [
    "## References\n",
    "\n",
    "https://www.datacareer.ch/blog/analyzing-google-trends-with-r-retrieve-and-plot-with-gtrendsr/\n",
    "\n",
    "https://www.casualinferences.com/posts/how-to-plot-google-trends-in-r/\n",
    "\n",
    "https://www.storybench.org/mapping-search-data-from-google-trends-in-r/\n",
    "\n",
    "https://www.displayr.com/simple-web-scraping-in-displayr-using-r/\n",
    "\n",
    "https://medium.com/@pewresearch/using-google-trends-data-for-research-here-are-6-questions-to-ask-a7097f5fb526\n",
    "\n",
    "https://www.journalism.org/2017/04/27/google-flint-methodology/\n",
    "\n",
    "https://www.sciencedirect.com/science/article/pii/S0040162517315536\n",
    "\n",
    "https://www.rubenvezzoli.online/bulk-download-data-google-trends-r/\n",
    "\n",
    "https://www.ncbi.nlm.nih.gov/pmc/articles/PMC4814066/\n",
    "\n",
    "Graphics:\n",
    "\n",
    "https://www.statmethods.net/graphs/scatterplot.html\n",
    "\n",
    "http://www.sthda.com/english/wiki/scatter-plots-r-base-graphs"
   ]
  },
  {
   "cell_type": "code",
   "execution_count": null,
   "metadata": {},
   "outputs": [],
   "source": []
  }
 ],
 "metadata": {
  "kernelspec": {
   "display_name": "R",
   "language": "R",
   "name": "ir"
  },
  "language_info": {
   "codemirror_mode": "r",
   "file_extension": ".r",
   "mimetype": "text/x-r-source",
   "name": "R",
   "pygments_lexer": "r",
   "version": "4.0.3"
  }
 },
 "nbformat": 4,
 "nbformat_minor": 4
}
